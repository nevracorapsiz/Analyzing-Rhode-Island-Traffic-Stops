{
 "cells": [
  {
   "cell_type": "markdown",
   "metadata": {},
   "source": [
    "# Analyzing Rhode Island Traffic Stops "
   ]
  },
  {
   "cell_type": "code",
   "execution_count": 994,
   "metadata": {},
   "outputs": [],
   "source": [
    "import pandas as pd\n",
    "import matplotlib.pyplot as plt\n",
    "import numpy as np\n",
    "from matplotlib import style"
   ]
  },
  {
   "cell_type": "code",
   "execution_count": 995,
   "metadata": {},
   "outputs": [
    {
     "name": "stderr",
     "output_type": "stream",
     "text": [
      "C:\\Users\\Nevra\\AppData\\Local\\Temp\\ipykernel_6688\\2202931053.py:1: DtypeWarning: Columns (6) have mixed types. Specify dtype option on import or set low_memory=False.\n",
      "  df=pd.read_csv(r\"C:\\Users\\Nevra\\Desktop\\traffic_stops.csv\")\n"
     ]
    }
   ],
   "source": [
    "df=pd.read_csv(r\"C:\\Users\\Nevra\\Desktop\\traffic_stops.csv\")"
   ]
  },
  {
   "attachments": {},
   "cell_type": "markdown",
   "metadata": {},
   "source": [
    "## Preparing the data for analysis"
   ]
  },
  {
   "cell_type": "code",
   "execution_count": 996,
   "metadata": {},
   "outputs": [
    {
     "data": {
      "text/html": [
       "<div>\n",
       "<style scoped>\n",
       "    .dataframe tbody tr th:only-of-type {\n",
       "        vertical-align: middle;\n",
       "    }\n",
       "\n",
       "    .dataframe tbody tr th {\n",
       "        vertical-align: top;\n",
       "    }\n",
       "\n",
       "    .dataframe thead th {\n",
       "        text-align: right;\n",
       "    }\n",
       "</style>\n",
       "<table border=\"1\" class=\"dataframe\">\n",
       "  <thead>\n",
       "    <tr style=\"text-align: right;\">\n",
       "      <th></th>\n",
       "      <th>raw_row_number</th>\n",
       "      <th>date</th>\n",
       "      <th>time</th>\n",
       "      <th>zone</th>\n",
       "      <th>subject_race</th>\n",
       "      <th>subject_sex</th>\n",
       "      <th>department_id</th>\n",
       "      <th>type</th>\n",
       "      <th>arrest_made</th>\n",
       "      <th>contraband_found</th>\n",
       "      <th>contraband_drugs</th>\n",
       "      <th>contraband_weapons</th>\n",
       "      <th>contraband_alcohol</th>\n",
       "      <th>reason_for_search</th>\n",
       "      <th>reason_for_stop</th>\n",
       "    </tr>\n",
       "  </thead>\n",
       "  <tbody>\n",
       "    <tr>\n",
       "      <th>0</th>\n",
       "      <td>1</td>\n",
       "      <td>22/11/2005</td>\n",
       "      <td>11:15:00</td>\n",
       "      <td>X3</td>\n",
       "      <td>white</td>\n",
       "      <td>male</td>\n",
       "      <td>200</td>\n",
       "      <td>vehicular</td>\n",
       "      <td>False</td>\n",
       "      <td>NaN</td>\n",
       "      <td>NaN</td>\n",
       "      <td>NaN</td>\n",
       "      <td>NaN</td>\n",
       "      <td>NaN</td>\n",
       "      <td>Speeding</td>\n",
       "    </tr>\n",
       "    <tr>\n",
       "      <th>1</th>\n",
       "      <td>2</td>\n",
       "      <td>01/10/2005</td>\n",
       "      <td>12:20:00</td>\n",
       "      <td>X3</td>\n",
       "      <td>white</td>\n",
       "      <td>male</td>\n",
       "      <td>200</td>\n",
       "      <td>vehicular</td>\n",
       "      <td>False</td>\n",
       "      <td>NaN</td>\n",
       "      <td>NaN</td>\n",
       "      <td>NaN</td>\n",
       "      <td>NaN</td>\n",
       "      <td>NaN</td>\n",
       "      <td>Speeding</td>\n",
       "    </tr>\n",
       "    <tr>\n",
       "      <th>2</th>\n",
       "      <td>3</td>\n",
       "      <td>01/10/2005</td>\n",
       "      <td>12:30:00</td>\n",
       "      <td>X3</td>\n",
       "      <td>white</td>\n",
       "      <td>female</td>\n",
       "      <td>200</td>\n",
       "      <td>vehicular</td>\n",
       "      <td>False</td>\n",
       "      <td>NaN</td>\n",
       "      <td>NaN</td>\n",
       "      <td>NaN</td>\n",
       "      <td>NaN</td>\n",
       "      <td>NaN</td>\n",
       "      <td>Speeding</td>\n",
       "    </tr>\n",
       "    <tr>\n",
       "      <th>3</th>\n",
       "      <td>4</td>\n",
       "      <td>01/10/2005</td>\n",
       "      <td>12:50:00</td>\n",
       "      <td>X3</td>\n",
       "      <td>white</td>\n",
       "      <td>male</td>\n",
       "      <td>200</td>\n",
       "      <td>vehicular</td>\n",
       "      <td>False</td>\n",
       "      <td>NaN</td>\n",
       "      <td>NaN</td>\n",
       "      <td>NaN</td>\n",
       "      <td>NaN</td>\n",
       "      <td>NaN</td>\n",
       "      <td>Speeding</td>\n",
       "    </tr>\n",
       "    <tr>\n",
       "      <th>4</th>\n",
       "      <td>5</td>\n",
       "      <td>01/10/2005</td>\n",
       "      <td>13:10:00</td>\n",
       "      <td>X3</td>\n",
       "      <td>white</td>\n",
       "      <td>female</td>\n",
       "      <td>200</td>\n",
       "      <td>vehicular</td>\n",
       "      <td>False</td>\n",
       "      <td>NaN</td>\n",
       "      <td>NaN</td>\n",
       "      <td>NaN</td>\n",
       "      <td>NaN</td>\n",
       "      <td>NaN</td>\n",
       "      <td>Speeding</td>\n",
       "    </tr>\n",
       "  </tbody>\n",
       "</table>\n",
       "</div>"
      ],
      "text/plain": [
       "   raw_row_number        date      time zone subject_race subject_sex  \\\n",
       "0               1  22/11/2005  11:15:00   X3        white        male   \n",
       "1               2  01/10/2005  12:20:00   X3        white        male   \n",
       "2               3  01/10/2005  12:30:00   X3        white      female   \n",
       "3               4  01/10/2005  12:50:00   X3        white        male   \n",
       "4               5  01/10/2005  13:10:00   X3        white      female   \n",
       "\n",
       "  department_id       type arrest_made contraband_found contraband_drugs  \\\n",
       "0           200  vehicular       False              NaN              NaN   \n",
       "1           200  vehicular       False              NaN              NaN   \n",
       "2           200  vehicular       False              NaN              NaN   \n",
       "3           200  vehicular       False              NaN              NaN   \n",
       "4           200  vehicular       False              NaN              NaN   \n",
       "\n",
       "  contraband_weapons contraband_alcohol reason_for_search reason_for_stop  \n",
       "0                NaN                NaN               NaN        Speeding  \n",
       "1                NaN                NaN               NaN        Speeding  \n",
       "2                NaN                NaN               NaN        Speeding  \n",
       "3                NaN                NaN               NaN        Speeding  \n",
       "4                NaN                NaN               NaN        Speeding  "
      ]
     },
     "execution_count": 996,
     "metadata": {},
     "output_type": "execute_result"
    }
   ],
   "source": [
    "df.head()"
   ]
  },
  {
   "cell_type": "code",
   "execution_count": 997,
   "metadata": {},
   "outputs": [
    {
     "data": {
      "text/plain": [
       "raw_row_number         int64\n",
       "date                  object\n",
       "time                  object\n",
       "zone                  object\n",
       "subject_race          object\n",
       "subject_sex           object\n",
       "department_id         object\n",
       "type                  object\n",
       "arrest_made           object\n",
       "contraband_found      object\n",
       "contraband_drugs      object\n",
       "contraband_weapons    object\n",
       "contraband_alcohol    object\n",
       "reason_for_search     object\n",
       "reason_for_stop       object\n",
       "dtype: object"
      ]
     },
     "execution_count": 997,
     "metadata": {},
     "output_type": "execute_result"
    }
   ],
   "source": [
    "df.dtypes"
   ]
  },
  {
   "cell_type": "code",
   "execution_count": 998,
   "metadata": {},
   "outputs": [
    {
     "data": {
      "text/plain": [
       "(509681, 15)"
      ]
     },
     "execution_count": 998,
     "metadata": {},
     "output_type": "execute_result"
    }
   ],
   "source": [
    "df.shape"
   ]
  },
  {
   "cell_type": "code",
   "execution_count": 999,
   "metadata": {},
   "outputs": [],
   "source": [
    "df.drop(\"raw_row_number\",axis=\"columns\",inplace=True)"
   ]
  },
  {
   "cell_type": "code",
   "execution_count": 1000,
   "metadata": {},
   "outputs": [
    {
     "data": {
      "text/plain": [
       "(509681, 14)"
      ]
     },
     "execution_count": 1000,
     "metadata": {},
     "output_type": "execute_result"
    }
   ],
   "source": [
    "df.shape"
   ]
  },
  {
   "cell_type": "code",
   "execution_count": 1001,
   "metadata": {},
   "outputs": [
    {
     "data": {
      "text/plain": [
       "date                      10\n",
       "time                      10\n",
       "zone                      10\n",
       "subject_race           29073\n",
       "subject_sex            29097\n",
       "department_id             10\n",
       "type                       0\n",
       "arrest_made            29073\n",
       "contraband_found      491919\n",
       "contraband_drugs      493693\n",
       "contraband_weapons    497886\n",
       "contraband_alcohol    508464\n",
       "reason_for_search     491919\n",
       "reason_for_stop        29073\n",
       "dtype: int64"
      ]
     },
     "execution_count": 1001,
     "metadata": {},
     "output_type": "execute_result"
    }
   ],
   "source": [
    "df.isnull().sum()"
   ]
  },
  {
   "cell_type": "code",
   "execution_count": 1002,
   "metadata": {},
   "outputs": [],
   "source": [
    "df.dropna(subset=[\"date\"],inplace=True)"
   ]
  },
  {
   "cell_type": "code",
   "execution_count": 1003,
   "metadata": {},
   "outputs": [
    {
     "data": {
      "text/plain": [
       "(509671, 14)"
      ]
     },
     "execution_count": 1003,
     "metadata": {},
     "output_type": "execute_result"
    }
   ],
   "source": [
    "df.shape"
   ]
  },
  {
   "cell_type": "code",
   "execution_count": 1004,
   "metadata": {},
   "outputs": [
    {
     "data": {
      "text/plain": [
       "date                       0\n",
       "time                       0\n",
       "zone                       0\n",
       "subject_race           29063\n",
       "subject_sex            29087\n",
       "department_id              0\n",
       "type                       0\n",
       "arrest_made            29063\n",
       "contraband_found      491909\n",
       "contraband_drugs      493683\n",
       "contraband_weapons    497876\n",
       "contraband_alcohol    508454\n",
       "reason_for_search     491909\n",
       "reason_for_stop        29063\n",
       "dtype: int64"
      ]
     },
     "execution_count": 1004,
     "metadata": {},
     "output_type": "execute_result"
    }
   ],
   "source": [
    "df.isnull().sum()"
   ]
  },
  {
   "cell_type": "code",
   "execution_count": 1005,
   "metadata": {},
   "outputs": [],
   "source": [
    "df[\"arrest_made\"]=df.arrest_made.astype(\"boolean\")"
   ]
  },
  {
   "cell_type": "code",
   "execution_count": 1006,
   "metadata": {},
   "outputs": [],
   "source": [
    "df[\"subject_sex\"]=df.subject_sex.astype(\"category\")\n",
    "df[\"subject_race\"]=df.subject_race.astype(\"category\")\n",
    "df[\"reason_for_stop\"]=df.reason_for_stop.astype(\"category\")"
   ]
  },
  {
   "cell_type": "code",
   "execution_count": 1007,
   "metadata": {},
   "outputs": [],
   "source": [
    "df[\"contraband_found\"]=df.contraband_found.astype(\"boolean\")\n",
    "df[\"contraband_drugs\"]=df.contraband_drugs.astype(\"boolean\")\n",
    "df[\"contraband_weapons\"]=df.contraband_weapons.astype(\"boolean\")\n",
    "df[\"contraband_alcohol\"]=df.contraband_alcohol.astype(\"boolean\")"
   ]
  },
  {
   "cell_type": "code",
   "execution_count": 1008,
   "metadata": {
    "scrolled": false
   },
   "outputs": [
    {
     "data": {
      "text/plain": [
       "date                    object\n",
       "time                    object\n",
       "zone                    object\n",
       "subject_race          category\n",
       "subject_sex           category\n",
       "department_id           object\n",
       "type                    object\n",
       "arrest_made            boolean\n",
       "contraband_found       boolean\n",
       "contraband_drugs       boolean\n",
       "contraband_weapons     boolean\n",
       "contraband_alcohol     boolean\n",
       "reason_for_search       object\n",
       "reason_for_stop       category\n",
       "dtype: object"
      ]
     },
     "execution_count": 1008,
     "metadata": {},
     "output_type": "execute_result"
    }
   ],
   "source": [
    "df.dtypes"
   ]
  },
  {
   "cell_type": "code",
   "execution_count": 1009,
   "metadata": {},
   "outputs": [
    {
     "data": {
      "text/html": [
       "<div>\n",
       "<style scoped>\n",
       "    .dataframe tbody tr th:only-of-type {\n",
       "        vertical-align: middle;\n",
       "    }\n",
       "\n",
       "    .dataframe tbody tr th {\n",
       "        vertical-align: top;\n",
       "    }\n",
       "\n",
       "    .dataframe thead th {\n",
       "        text-align: right;\n",
       "    }\n",
       "</style>\n",
       "<table border=\"1\" class=\"dataframe\">\n",
       "  <thead>\n",
       "    <tr style=\"text-align: right;\">\n",
       "      <th></th>\n",
       "      <th>date</th>\n",
       "      <th>time</th>\n",
       "      <th>zone</th>\n",
       "      <th>subject_race</th>\n",
       "      <th>subject_sex</th>\n",
       "      <th>department_id</th>\n",
       "      <th>type</th>\n",
       "      <th>arrest_made</th>\n",
       "      <th>contraband_found</th>\n",
       "      <th>contraband_drugs</th>\n",
       "      <th>contraband_weapons</th>\n",
       "      <th>contraband_alcohol</th>\n",
       "      <th>reason_for_search</th>\n",
       "      <th>reason_for_stop</th>\n",
       "    </tr>\n",
       "  </thead>\n",
       "  <tbody>\n",
       "    <tr>\n",
       "      <th>0</th>\n",
       "      <td>22/11/2005</td>\n",
       "      <td>11:15:00</td>\n",
       "      <td>X3</td>\n",
       "      <td>white</td>\n",
       "      <td>male</td>\n",
       "      <td>200</td>\n",
       "      <td>vehicular</td>\n",
       "      <td>False</td>\n",
       "      <td>&lt;NA&gt;</td>\n",
       "      <td>&lt;NA&gt;</td>\n",
       "      <td>&lt;NA&gt;</td>\n",
       "      <td>&lt;NA&gt;</td>\n",
       "      <td>NaN</td>\n",
       "      <td>Speeding</td>\n",
       "    </tr>\n",
       "    <tr>\n",
       "      <th>1</th>\n",
       "      <td>01/10/2005</td>\n",
       "      <td>12:20:00</td>\n",
       "      <td>X3</td>\n",
       "      <td>white</td>\n",
       "      <td>male</td>\n",
       "      <td>200</td>\n",
       "      <td>vehicular</td>\n",
       "      <td>False</td>\n",
       "      <td>&lt;NA&gt;</td>\n",
       "      <td>&lt;NA&gt;</td>\n",
       "      <td>&lt;NA&gt;</td>\n",
       "      <td>&lt;NA&gt;</td>\n",
       "      <td>NaN</td>\n",
       "      <td>Speeding</td>\n",
       "    </tr>\n",
       "    <tr>\n",
       "      <th>2</th>\n",
       "      <td>01/10/2005</td>\n",
       "      <td>12:30:00</td>\n",
       "      <td>X3</td>\n",
       "      <td>white</td>\n",
       "      <td>female</td>\n",
       "      <td>200</td>\n",
       "      <td>vehicular</td>\n",
       "      <td>False</td>\n",
       "      <td>&lt;NA&gt;</td>\n",
       "      <td>&lt;NA&gt;</td>\n",
       "      <td>&lt;NA&gt;</td>\n",
       "      <td>&lt;NA&gt;</td>\n",
       "      <td>NaN</td>\n",
       "      <td>Speeding</td>\n",
       "    </tr>\n",
       "    <tr>\n",
       "      <th>3</th>\n",
       "      <td>01/10/2005</td>\n",
       "      <td>12:50:00</td>\n",
       "      <td>X3</td>\n",
       "      <td>white</td>\n",
       "      <td>male</td>\n",
       "      <td>200</td>\n",
       "      <td>vehicular</td>\n",
       "      <td>False</td>\n",
       "      <td>&lt;NA&gt;</td>\n",
       "      <td>&lt;NA&gt;</td>\n",
       "      <td>&lt;NA&gt;</td>\n",
       "      <td>&lt;NA&gt;</td>\n",
       "      <td>NaN</td>\n",
       "      <td>Speeding</td>\n",
       "    </tr>\n",
       "    <tr>\n",
       "      <th>4</th>\n",
       "      <td>01/10/2005</td>\n",
       "      <td>13:10:00</td>\n",
       "      <td>X3</td>\n",
       "      <td>white</td>\n",
       "      <td>female</td>\n",
       "      <td>200</td>\n",
       "      <td>vehicular</td>\n",
       "      <td>False</td>\n",
       "      <td>&lt;NA&gt;</td>\n",
       "      <td>&lt;NA&gt;</td>\n",
       "      <td>&lt;NA&gt;</td>\n",
       "      <td>&lt;NA&gt;</td>\n",
       "      <td>NaN</td>\n",
       "      <td>Speeding</td>\n",
       "    </tr>\n",
       "  </tbody>\n",
       "</table>\n",
       "</div>"
      ],
      "text/plain": [
       "         date      time zone subject_race subject_sex department_id  \\\n",
       "0  22/11/2005  11:15:00   X3        white        male           200   \n",
       "1  01/10/2005  12:20:00   X3        white        male           200   \n",
       "2  01/10/2005  12:30:00   X3        white      female           200   \n",
       "3  01/10/2005  12:50:00   X3        white        male           200   \n",
       "4  01/10/2005  13:10:00   X3        white      female           200   \n",
       "\n",
       "        type  arrest_made  contraband_found  contraband_drugs  \\\n",
       "0  vehicular        False              <NA>              <NA>   \n",
       "1  vehicular        False              <NA>              <NA>   \n",
       "2  vehicular        False              <NA>              <NA>   \n",
       "3  vehicular        False              <NA>              <NA>   \n",
       "4  vehicular        False              <NA>              <NA>   \n",
       "\n",
       "   contraband_weapons  contraband_alcohol reason_for_search reason_for_stop  \n",
       "0                <NA>                <NA>               NaN        Speeding  \n",
       "1                <NA>                <NA>               NaN        Speeding  \n",
       "2                <NA>                <NA>               NaN        Speeding  \n",
       "3                <NA>                <NA>               NaN        Speeding  \n",
       "4                <NA>                <NA>               NaN        Speeding  "
      ]
     },
     "execution_count": 1009,
     "metadata": {},
     "output_type": "execute_result"
    }
   ],
   "source": [
    "df.head()"
   ]
  },
  {
   "cell_type": "code",
   "execution_count": 1010,
   "metadata": {},
   "outputs": [],
   "source": [
    "df[\"date\"]=df.date.str.replace(\"/\",\"-\")"
   ]
  },
  {
   "cell_type": "code",
   "execution_count": 1011,
   "metadata": {},
   "outputs": [
    {
     "data": {
      "text/html": [
       "<div>\n",
       "<style scoped>\n",
       "    .dataframe tbody tr th:only-of-type {\n",
       "        vertical-align: middle;\n",
       "    }\n",
       "\n",
       "    .dataframe tbody tr th {\n",
       "        vertical-align: top;\n",
       "    }\n",
       "\n",
       "    .dataframe thead th {\n",
       "        text-align: right;\n",
       "    }\n",
       "</style>\n",
       "<table border=\"1\" class=\"dataframe\">\n",
       "  <thead>\n",
       "    <tr style=\"text-align: right;\">\n",
       "      <th></th>\n",
       "      <th>date</th>\n",
       "      <th>time</th>\n",
       "      <th>zone</th>\n",
       "      <th>subject_race</th>\n",
       "      <th>subject_sex</th>\n",
       "      <th>department_id</th>\n",
       "      <th>type</th>\n",
       "      <th>arrest_made</th>\n",
       "      <th>contraband_found</th>\n",
       "      <th>contraband_drugs</th>\n",
       "      <th>contraband_weapons</th>\n",
       "      <th>contraband_alcohol</th>\n",
       "      <th>reason_for_search</th>\n",
       "      <th>reason_for_stop</th>\n",
       "    </tr>\n",
       "  </thead>\n",
       "  <tbody>\n",
       "    <tr>\n",
       "      <th>0</th>\n",
       "      <td>22-11-2005</td>\n",
       "      <td>11:15:00</td>\n",
       "      <td>X3</td>\n",
       "      <td>white</td>\n",
       "      <td>male</td>\n",
       "      <td>200</td>\n",
       "      <td>vehicular</td>\n",
       "      <td>False</td>\n",
       "      <td>&lt;NA&gt;</td>\n",
       "      <td>&lt;NA&gt;</td>\n",
       "      <td>&lt;NA&gt;</td>\n",
       "      <td>&lt;NA&gt;</td>\n",
       "      <td>NaN</td>\n",
       "      <td>Speeding</td>\n",
       "    </tr>\n",
       "    <tr>\n",
       "      <th>1</th>\n",
       "      <td>01-10-2005</td>\n",
       "      <td>12:20:00</td>\n",
       "      <td>X3</td>\n",
       "      <td>white</td>\n",
       "      <td>male</td>\n",
       "      <td>200</td>\n",
       "      <td>vehicular</td>\n",
       "      <td>False</td>\n",
       "      <td>&lt;NA&gt;</td>\n",
       "      <td>&lt;NA&gt;</td>\n",
       "      <td>&lt;NA&gt;</td>\n",
       "      <td>&lt;NA&gt;</td>\n",
       "      <td>NaN</td>\n",
       "      <td>Speeding</td>\n",
       "    </tr>\n",
       "    <tr>\n",
       "      <th>2</th>\n",
       "      <td>01-10-2005</td>\n",
       "      <td>12:30:00</td>\n",
       "      <td>X3</td>\n",
       "      <td>white</td>\n",
       "      <td>female</td>\n",
       "      <td>200</td>\n",
       "      <td>vehicular</td>\n",
       "      <td>False</td>\n",
       "      <td>&lt;NA&gt;</td>\n",
       "      <td>&lt;NA&gt;</td>\n",
       "      <td>&lt;NA&gt;</td>\n",
       "      <td>&lt;NA&gt;</td>\n",
       "      <td>NaN</td>\n",
       "      <td>Speeding</td>\n",
       "    </tr>\n",
       "    <tr>\n",
       "      <th>3</th>\n",
       "      <td>01-10-2005</td>\n",
       "      <td>12:50:00</td>\n",
       "      <td>X3</td>\n",
       "      <td>white</td>\n",
       "      <td>male</td>\n",
       "      <td>200</td>\n",
       "      <td>vehicular</td>\n",
       "      <td>False</td>\n",
       "      <td>&lt;NA&gt;</td>\n",
       "      <td>&lt;NA&gt;</td>\n",
       "      <td>&lt;NA&gt;</td>\n",
       "      <td>&lt;NA&gt;</td>\n",
       "      <td>NaN</td>\n",
       "      <td>Speeding</td>\n",
       "    </tr>\n",
       "    <tr>\n",
       "      <th>4</th>\n",
       "      <td>01-10-2005</td>\n",
       "      <td>13:10:00</td>\n",
       "      <td>X3</td>\n",
       "      <td>white</td>\n",
       "      <td>female</td>\n",
       "      <td>200</td>\n",
       "      <td>vehicular</td>\n",
       "      <td>False</td>\n",
       "      <td>&lt;NA&gt;</td>\n",
       "      <td>&lt;NA&gt;</td>\n",
       "      <td>&lt;NA&gt;</td>\n",
       "      <td>&lt;NA&gt;</td>\n",
       "      <td>NaN</td>\n",
       "      <td>Speeding</td>\n",
       "    </tr>\n",
       "  </tbody>\n",
       "</table>\n",
       "</div>"
      ],
      "text/plain": [
       "         date      time zone subject_race subject_sex department_id  \\\n",
       "0  22-11-2005  11:15:00   X3        white        male           200   \n",
       "1  01-10-2005  12:20:00   X3        white        male           200   \n",
       "2  01-10-2005  12:30:00   X3        white      female           200   \n",
       "3  01-10-2005  12:50:00   X3        white        male           200   \n",
       "4  01-10-2005  13:10:00   X3        white      female           200   \n",
       "\n",
       "        type  arrest_made  contraband_found  contraband_drugs  \\\n",
       "0  vehicular        False              <NA>              <NA>   \n",
       "1  vehicular        False              <NA>              <NA>   \n",
       "2  vehicular        False              <NA>              <NA>   \n",
       "3  vehicular        False              <NA>              <NA>   \n",
       "4  vehicular        False              <NA>              <NA>   \n",
       "\n",
       "   contraband_weapons  contraband_alcohol reason_for_search reason_for_stop  \n",
       "0                <NA>                <NA>               NaN        Speeding  \n",
       "1                <NA>                <NA>               NaN        Speeding  \n",
       "2                <NA>                <NA>               NaN        Speeding  \n",
       "3                <NA>                <NA>               NaN        Speeding  \n",
       "4                <NA>                <NA>               NaN        Speeding  "
      ]
     },
     "execution_count": 1011,
     "metadata": {},
     "output_type": "execute_result"
    }
   ],
   "source": [
    "df.head()"
   ]
  },
  {
   "cell_type": "code",
   "execution_count": 1012,
   "metadata": {},
   "outputs": [],
   "source": [
    "combined=df.date.str.cat(df.time,sep=\" \")"
   ]
  },
  {
   "cell_type": "code",
   "execution_count": 1013,
   "metadata": {},
   "outputs": [],
   "source": [
    "df[\"date_time\"]=pd.to_datetime(combined)"
   ]
  },
  {
   "cell_type": "code",
   "execution_count": 1014,
   "metadata": {},
   "outputs": [
    {
     "data": {
      "text/plain": [
       "0        2005-11-22 11:15:00\n",
       "1        2005-01-10 12:20:00\n",
       "2        2005-01-10 12:30:00\n",
       "3        2005-01-10 12:50:00\n",
       "4        2005-01-10 13:10:00\n",
       "                 ...        \n",
       "509675   2015-08-16 13:37:00\n",
       "509676   2015-04-08 10:40:00\n",
       "509677   2015-12-20 11:17:00\n",
       "509678   2015-09-11 23:35:00\n",
       "509679   2015-10-30 11:09:00\n",
       "Name: date_time, Length: 509671, dtype: datetime64[ns]"
      ]
     },
     "execution_count": 1014,
     "metadata": {},
     "output_type": "execute_result"
    }
   ],
   "source": [
    "df.date_time"
   ]
  },
  {
   "cell_type": "code",
   "execution_count": 1015,
   "metadata": {},
   "outputs": [
    {
     "data": {
      "text/html": [
       "<div>\n",
       "<style scoped>\n",
       "    .dataframe tbody tr th:only-of-type {\n",
       "        vertical-align: middle;\n",
       "    }\n",
       "\n",
       "    .dataframe tbody tr th {\n",
       "        vertical-align: top;\n",
       "    }\n",
       "\n",
       "    .dataframe thead th {\n",
       "        text-align: right;\n",
       "    }\n",
       "</style>\n",
       "<table border=\"1\" class=\"dataframe\">\n",
       "  <thead>\n",
       "    <tr style=\"text-align: right;\">\n",
       "      <th></th>\n",
       "      <th>date</th>\n",
       "      <th>time</th>\n",
       "      <th>zone</th>\n",
       "      <th>subject_race</th>\n",
       "      <th>subject_sex</th>\n",
       "      <th>department_id</th>\n",
       "      <th>type</th>\n",
       "      <th>arrest_made</th>\n",
       "      <th>contraband_found</th>\n",
       "      <th>contraband_drugs</th>\n",
       "      <th>contraband_weapons</th>\n",
       "      <th>contraband_alcohol</th>\n",
       "      <th>reason_for_search</th>\n",
       "      <th>reason_for_stop</th>\n",
       "      <th>date_time</th>\n",
       "    </tr>\n",
       "  </thead>\n",
       "  <tbody>\n",
       "    <tr>\n",
       "      <th>0</th>\n",
       "      <td>22-11-2005</td>\n",
       "      <td>11:15:00</td>\n",
       "      <td>X3</td>\n",
       "      <td>white</td>\n",
       "      <td>male</td>\n",
       "      <td>200</td>\n",
       "      <td>vehicular</td>\n",
       "      <td>False</td>\n",
       "      <td>&lt;NA&gt;</td>\n",
       "      <td>&lt;NA&gt;</td>\n",
       "      <td>&lt;NA&gt;</td>\n",
       "      <td>&lt;NA&gt;</td>\n",
       "      <td>NaN</td>\n",
       "      <td>Speeding</td>\n",
       "      <td>2005-11-22 11:15:00</td>\n",
       "    </tr>\n",
       "    <tr>\n",
       "      <th>1</th>\n",
       "      <td>01-10-2005</td>\n",
       "      <td>12:20:00</td>\n",
       "      <td>X3</td>\n",
       "      <td>white</td>\n",
       "      <td>male</td>\n",
       "      <td>200</td>\n",
       "      <td>vehicular</td>\n",
       "      <td>False</td>\n",
       "      <td>&lt;NA&gt;</td>\n",
       "      <td>&lt;NA&gt;</td>\n",
       "      <td>&lt;NA&gt;</td>\n",
       "      <td>&lt;NA&gt;</td>\n",
       "      <td>NaN</td>\n",
       "      <td>Speeding</td>\n",
       "      <td>2005-01-10 12:20:00</td>\n",
       "    </tr>\n",
       "    <tr>\n",
       "      <th>2</th>\n",
       "      <td>01-10-2005</td>\n",
       "      <td>12:30:00</td>\n",
       "      <td>X3</td>\n",
       "      <td>white</td>\n",
       "      <td>female</td>\n",
       "      <td>200</td>\n",
       "      <td>vehicular</td>\n",
       "      <td>False</td>\n",
       "      <td>&lt;NA&gt;</td>\n",
       "      <td>&lt;NA&gt;</td>\n",
       "      <td>&lt;NA&gt;</td>\n",
       "      <td>&lt;NA&gt;</td>\n",
       "      <td>NaN</td>\n",
       "      <td>Speeding</td>\n",
       "      <td>2005-01-10 12:30:00</td>\n",
       "    </tr>\n",
       "    <tr>\n",
       "      <th>3</th>\n",
       "      <td>01-10-2005</td>\n",
       "      <td>12:50:00</td>\n",
       "      <td>X3</td>\n",
       "      <td>white</td>\n",
       "      <td>male</td>\n",
       "      <td>200</td>\n",
       "      <td>vehicular</td>\n",
       "      <td>False</td>\n",
       "      <td>&lt;NA&gt;</td>\n",
       "      <td>&lt;NA&gt;</td>\n",
       "      <td>&lt;NA&gt;</td>\n",
       "      <td>&lt;NA&gt;</td>\n",
       "      <td>NaN</td>\n",
       "      <td>Speeding</td>\n",
       "      <td>2005-01-10 12:50:00</td>\n",
       "    </tr>\n",
       "    <tr>\n",
       "      <th>4</th>\n",
       "      <td>01-10-2005</td>\n",
       "      <td>13:10:00</td>\n",
       "      <td>X3</td>\n",
       "      <td>white</td>\n",
       "      <td>female</td>\n",
       "      <td>200</td>\n",
       "      <td>vehicular</td>\n",
       "      <td>False</td>\n",
       "      <td>&lt;NA&gt;</td>\n",
       "      <td>&lt;NA&gt;</td>\n",
       "      <td>&lt;NA&gt;</td>\n",
       "      <td>&lt;NA&gt;</td>\n",
       "      <td>NaN</td>\n",
       "      <td>Speeding</td>\n",
       "      <td>2005-01-10 13:10:00</td>\n",
       "    </tr>\n",
       "  </tbody>\n",
       "</table>\n",
       "</div>"
      ],
      "text/plain": [
       "         date      time zone subject_race subject_sex department_id  \\\n",
       "0  22-11-2005  11:15:00   X3        white        male           200   \n",
       "1  01-10-2005  12:20:00   X3        white        male           200   \n",
       "2  01-10-2005  12:30:00   X3        white      female           200   \n",
       "3  01-10-2005  12:50:00   X3        white        male           200   \n",
       "4  01-10-2005  13:10:00   X3        white      female           200   \n",
       "\n",
       "        type  arrest_made  contraband_found  contraband_drugs  \\\n",
       "0  vehicular        False              <NA>              <NA>   \n",
       "1  vehicular        False              <NA>              <NA>   \n",
       "2  vehicular        False              <NA>              <NA>   \n",
       "3  vehicular        False              <NA>              <NA>   \n",
       "4  vehicular        False              <NA>              <NA>   \n",
       "\n",
       "   contraband_weapons  contraband_alcohol reason_for_search reason_for_stop  \\\n",
       "0                <NA>                <NA>               NaN        Speeding   \n",
       "1                <NA>                <NA>               NaN        Speeding   \n",
       "2                <NA>                <NA>               NaN        Speeding   \n",
       "3                <NA>                <NA>               NaN        Speeding   \n",
       "4                <NA>                <NA>               NaN        Speeding   \n",
       "\n",
       "            date_time  \n",
       "0 2005-11-22 11:15:00  \n",
       "1 2005-01-10 12:20:00  \n",
       "2 2005-01-10 12:30:00  \n",
       "3 2005-01-10 12:50:00  \n",
       "4 2005-01-10 13:10:00  "
      ]
     },
     "execution_count": 1015,
     "metadata": {},
     "output_type": "execute_result"
    }
   ],
   "source": [
    "df.head()"
   ]
  },
  {
   "attachments": {},
   "cell_type": "markdown",
   "metadata": {},
   "source": [
    "### Exploring the relationship between gender and policing"
   ]
  },
  {
   "cell_type": "code",
   "execution_count": 1016,
   "metadata": {},
   "outputs": [
    {
     "data": {
      "text/plain": [
       "male      349446\n",
       "female    131138\n",
       "Name: subject_sex, dtype: int64"
      ]
     },
     "execution_count": 1016,
     "metadata": {},
     "output_type": "execute_result"
    }
   ],
   "source": [
    "df.subject_sex.value_counts()"
   ]
  },
  {
   "cell_type": "code",
   "execution_count": 1017,
   "metadata": {},
   "outputs": [
    {
     "data": {
      "text/plain": [
       "male      0.727128\n",
       "female    0.272872\n",
       "Name: subject_sex, dtype: float64"
      ]
     },
     "execution_count": 1017,
     "metadata": {},
     "output_type": "execute_result"
    }
   ],
   "source": [
    "sex_counts=df.subject_sex.value_counts(normalize=True)\n",
    "sex_counts"
   ]
  },
  {
   "cell_type": "code",
   "execution_count": 1018,
   "metadata": {},
   "outputs": [
    {
     "data": {
      "text/plain": [
       "Text(0, 0.5, '')"
      ]
     },
     "execution_count": 1018,
     "metadata": {},
     "output_type": "execute_result"
    },
    {
     "data": {
      "image/png": "[encoded data removed]",
      "text/plain": [
       "<Figure size 640x480 with 1 Axes>"
      ]
     },
     "metadata": {},
     "output_type": "display_data"
    }
   ],
   "source": [
    "sex_counts.plot(kind=\"pie\",colors=[\"lightblue\",\"red\"],title=\"Traffic Stops by Gender\")\n",
    "plt.ylabel(\"\")"
   ]
  },
  {
   "cell_type": "code",
   "execution_count": 1019,
   "metadata": {},
   "outputs": [],
   "source": [
    "female=df[df[\"subject_sex\"]==\"female\"]"
   ]
  },
  {
   "cell_type": "code",
   "execution_count": 1020,
   "metadata": {},
   "outputs": [],
   "source": [
    "male=df[df[\"subject_sex\"]==\"male\"]"
   ]
  },
  {
   "cell_type": "code",
   "execution_count": 1021,
   "metadata": {},
   "outputs": [],
   "source": [
    "arrested=df[df[\"arrest_made\"]==True]"
   ]
  },
  {
   "cell_type": "code",
   "execution_count": 1022,
   "metadata": {},
   "outputs": [
    {
     "data": {
      "text/plain": [
       "male      0.798651\n",
       "female    0.201349\n",
       "Name: subject_sex, dtype: float64"
      ]
     },
     "execution_count": 1022,
     "metadata": {},
     "output_type": "execute_result"
    }
   ],
   "source": [
    "arrested_by_sex=arrested.subject_sex.value_counts(normalize=True)\n",
    "arrested_by_sex"
   ]
  },
  {
   "cell_type": "code",
   "execution_count": 1023,
   "metadata": {},
   "outputs": [
    {
     "data": {
      "text/plain": [
       "Text(0, 0.5, '')"
      ]
     },
     "execution_count": 1023,
     "metadata": {},
     "output_type": "execute_result"
    },
    {
     "data": {
      "image/png": "[encoded data removed]",
      "text/plain": [
       "<Figure size 640x480 with 1 Axes>"
      ]
     },
     "metadata": {},
     "output_type": "display_data"
    }
   ],
   "source": [
    "arrested_by_sex.plot(kind=\"pie\",colors=[\"lightblue\",\"red\"],title=\"Arrested Proportion by Gender\")\n",
    "plt.ylabel(\"\")"
   ]
  },
  {
   "cell_type": "code",
   "execution_count": 1024,
   "metadata": {},
   "outputs": [
    {
     "data": {
      "text/plain": [
       "white                     0.556345\n",
       "black                     0.237186\n",
       "hispanic                  0.190086\n",
       "asian/pacific islander    0.015539\n",
       "other                     0.000843\n",
       "Name: subject_race, dtype: float64"
      ]
     },
     "execution_count": 1024,
     "metadata": {},
     "output_type": "execute_result"
    }
   ],
   "source": [
    "arrested_by_race=arrested.subject_race.value_counts(normalize=True)\n",
    "arrested_by_race"
   ]
  },
  {
   "cell_type": "code",
   "execution_count": 1025,
   "metadata": {},
   "outputs": [
    {
     "data": {
      "image/png": "[encoded data removed]",
      "text/plain": [
       "<Figure size 640x480 with 1 Axes>"
      ]
     },
     "metadata": {},
     "output_type": "display_data"
    }
   ],
   "source": [
    "arrested_by_race.plot(kind=\"pie\",radius=1)\n",
    "plt.ylabel(\"\")\n",
    "plt.title(\"Arrest Proportion by Race\",loc=\"center\")\n",
    "plt.style.use(\"ggplot\")"
   ]
  },
  {
   "cell_type": "code",
   "execution_count": 1026,
   "metadata": {},
   "outputs": [
    {
     "data": {
      "text/html": [
       "<div>\n",
       "<style scoped>\n",
       "    .dataframe tbody tr th:only-of-type {\n",
       "        vertical-align: middle;\n",
       "    }\n",
       "\n",
       "    .dataframe tbody tr th {\n",
       "        vertical-align: top;\n",
       "    }\n",
       "\n",
       "    .dataframe thead th {\n",
       "        text-align: right;\n",
       "    }\n",
       "</style>\n",
       "<table border=\"1\" class=\"dataframe\">\n",
       "  <thead>\n",
       "    <tr style=\"text-align: right;\">\n",
       "      <th>subject_sex</th>\n",
       "      <th>female</th>\n",
       "      <th>male</th>\n",
       "    </tr>\n",
       "    <tr>\n",
       "      <th>subject_race</th>\n",
       "      <th></th>\n",
       "      <th></th>\n",
       "    </tr>\n",
       "  </thead>\n",
       "  <tbody>\n",
       "    <tr>\n",
       "      <th>asian/pacific islander</th>\n",
       "      <td>42</td>\n",
       "      <td>216</td>\n",
       "    </tr>\n",
       "    <tr>\n",
       "      <th>black</th>\n",
       "      <td>766</td>\n",
       "      <td>3172</td>\n",
       "    </tr>\n",
       "    <tr>\n",
       "      <th>hispanic</th>\n",
       "      <td>461</td>\n",
       "      <td>2695</td>\n",
       "    </tr>\n",
       "    <tr>\n",
       "      <th>other</th>\n",
       "      <td>2</td>\n",
       "      <td>12</td>\n",
       "    </tr>\n",
       "    <tr>\n",
       "      <th>white</th>\n",
       "      <td>2072</td>\n",
       "      <td>7165</td>\n",
       "    </tr>\n",
       "  </tbody>\n",
       "</table>\n",
       "</div>"
      ],
      "text/plain": [
       "subject_sex             female  male\n",
       "subject_race                        \n",
       "asian/pacific islander      42   216\n",
       "black                      766  3172\n",
       "hispanic                   461  2695\n",
       "other                        2    12\n",
       "white                     2072  7165"
      ]
     },
     "execution_count": 1026,
     "metadata": {},
     "output_type": "execute_result"
    }
   ],
   "source": [
    "pd.crosstab(arrested.subject_race,arrested.subject_sex)"
   ]
  },
  {
   "cell_type": "code",
   "execution_count": 1027,
   "metadata": {},
   "outputs": [
    {
     "data": {
      "text/plain": [
       "<AxesSubplot:title={'center':'Arrested Proportion by Subject Race'}, xlabel='subject_race'>"
      ]
     },
     "execution_count": 1027,
     "metadata": {},
     "output_type": "execute_result"
    },
    {
     "data": {
      "image/png": "[encoded data removed]",
      "text/plain": [
       "<Figure size 640x480 with 1 Axes>"
      ]
     },
     "metadata": {},
     "output_type": "display_data"
    }
   ],
   "source": [
    "pd.crosstab(arrested.subject_race,arrested.subject_sex).plot(kind=\"bar\",title=\"Arrested Proportion by Subject Race\",stacked=True,rot=13)"
   ]
  },
  {
   "cell_type": "code",
   "execution_count": 1028,
   "metadata": {},
   "outputs": [
    {
     "data": {
      "text/plain": [
       "['Solarize_Light2',\n",
       " '_classic_test_patch',\n",
       " '_mpl-gallery',\n",
       " '_mpl-gallery-nogrid',\n",
       " 'bmh',\n",
       " 'classic',\n",
       " 'dark_background',\n",
       " 'fast',\n",
       " 'fivethirtyeight',\n",
       " 'ggplot',\n",
       " 'grayscale',\n",
       " 'seaborn',\n",
       " 'seaborn-bright',\n",
       " 'seaborn-colorblind',\n",
       " 'seaborn-dark',\n",
       " 'seaborn-dark-palette',\n",
       " 'seaborn-darkgrid',\n",
       " 'seaborn-deep',\n",
       " 'seaborn-muted',\n",
       " 'seaborn-notebook',\n",
       " 'seaborn-paper',\n",
       " 'seaborn-pastel',\n",
       " 'seaborn-poster',\n",
       " 'seaborn-talk',\n",
       " 'seaborn-ticks',\n",
       " 'seaborn-white',\n",
       " 'seaborn-whitegrid',\n",
       " 'tableau-colorblind10']"
      ]
     },
     "execution_count": 1028,
     "metadata": {},
     "output_type": "execute_result"
    }
   ],
   "source": [
    "plt.style.available"
   ]
  },
  {
   "cell_type": "code",
   "execution_count": 1029,
   "metadata": {},
   "outputs": [
    {
     "data": {
      "text/plain": [
       "Index(['date', 'time', 'zone', 'subject_race', 'subject_sex', 'department_id',\n",
       "       'type', 'arrest_made', 'contraband_found', 'contraband_drugs',\n",
       "       'contraband_weapons', 'contraband_alcohol', 'reason_for_search',\n",
       "       'reason_for_stop', 'date_time'],\n",
       "      dtype='object')"
      ]
     },
     "execution_count": 1029,
     "metadata": {},
     "output_type": "execute_result"
    }
   ],
   "source": [
    "df.columns"
   ]
  },
  {
   "cell_type": "code",
   "execution_count": 1030,
   "metadata": {},
   "outputs": [
    {
     "data": {
      "text/plain": [
       "subject_race            subject_sex\n",
       "asian/pacific islander  female         0.014194\n",
       "                        male           0.021896\n",
       "black                   female         0.051897\n",
       "                        male            0.05894\n",
       "hispanic                female         0.044927\n",
       "                        male           0.062876\n",
       "other                   female         0.007843\n",
       "                        male           0.011019\n",
       "white                   female         0.020135\n",
       "                        male            0.02963\n",
       "Name: arrest_made, dtype: Float64"
      ]
     },
     "execution_count": 1030,
     "metadata": {},
     "output_type": "execute_result"
    }
   ],
   "source": [
    "df.groupby([\"subject_race\",\"subject_sex\"])[\"arrest_made\"].mean()"
   ]
  },
  {
   "cell_type": "code",
   "execution_count": 1031,
   "metadata": {},
   "outputs": [
    {
     "data": {
      "text/plain": [
       "Speeding                            268744\n",
       "Other Traffic Violation              90234\n",
       "Equipment/Inspection Violation       61252\n",
       "Registration Violation               19830\n",
       "Seatbelt Violation                   16327\n",
       "Special Detail/Directed Patrol       13642\n",
       "Call for Service                      7609\n",
       "Violation of City/Town Ordinance      1036\n",
       "Motorist Assist/Courtesy               990\n",
       "APB                                    485\n",
       "Suspicious Person                      342\n",
       "Warrant                                117\n",
       "Name: reason_for_stop, dtype: int64"
      ]
     },
     "execution_count": 1031,
     "metadata": {},
     "output_type": "execute_result"
    }
   ],
   "source": [
    "df.reason_for_stop.value_counts()"
   ]
  },
  {
   "cell_type": "code",
   "execution_count": 1032,
   "metadata": {},
   "outputs": [
    {
     "data": {
      "text/plain": [
       "Speeding                            0.657308\n",
       "Other Traffic Violation             0.136581\n",
       "Equipment/Inspection Violation      0.107055\n",
       "Registration Violation              0.043077\n",
       "Seatbelt Violation                  0.027071\n",
       "Call for Service                    0.018057\n",
       "Special Detail/Directed Patrol      0.005071\n",
       "Motorist Assist/Courtesy            0.002532\n",
       "Violation of City/Town Ordinance    0.001647\n",
       "APB                                 0.000831\n",
       "Suspicious Person                   0.000564\n",
       "Warrant                             0.000206\n",
       "Name: reason_for_stop, dtype: float64"
      ]
     },
     "execution_count": 1032,
     "metadata": {},
     "output_type": "execute_result"
    }
   ],
   "source": [
    "female_reason_for_stop=df[df.subject_sex==\"female\"].reason_for_stop.value_counts(normalize=True)\n",
    "female_reason_for_stop"
   ]
  },
  {
   "cell_type": "code",
   "execution_count": 1033,
   "metadata": {},
   "outputs": [
    {
     "data": {
      "image/png": "[encoded data removed]",
      "text/plain": [
       "<Figure size 640x480 with 1 Axes>"
      ]
     },
     "metadata": {},
     "output_type": "display_data"
    }
   ],
   "source": [
    "female_reason_for_stop.plot(kind=\"bar\", ylabel=\"percentage\", title=\"Reasons for Stopping Females'\",color=\"Red\")\n",
    "plt.style.use(\"ggplot\")"
   ]
  },
  {
   "cell_type": "code",
   "execution_count": 1034,
   "metadata": {},
   "outputs": [
    {
     "data": {
      "text/plain": [
       "Speeding                            0.522364\n",
       "Other Traffic Violation             0.206948\n",
       "Equipment/Inspection Violation      0.135102\n",
       "Registration Violation              0.040581\n",
       "Special Detail/Directed Patrol      0.037136\n",
       "Seatbelt Violation                  0.036555\n",
       "Call for Service                    0.014987\n",
       "Violation of City/Town Ordinance    0.002347\n",
       "Motorist Assist/Courtesy            0.001880\n",
       "APB                                 0.001076\n",
       "Suspicious Person                   0.000767\n",
       "Warrant                             0.000258\n",
       "Name: reason_for_stop, dtype: float64"
      ]
     },
     "execution_count": 1034,
     "metadata": {},
     "output_type": "execute_result"
    }
   ],
   "source": [
    "male_reason_for_stop=df[df.subject_sex==\"male\"].reason_for_stop.value_counts(normalize=True)\n",
    "male_reason_for_stop"
   ]
  },
  {
   "cell_type": "code",
   "execution_count": 1035,
   "metadata": {
    "scrolled": true
   },
   "outputs": [
    {
     "data": {
      "image/png": "[encoded data removed]",
      "text/plain": [
       "<Figure size 640x480 with 1 Axes>"
      ]
     },
     "metadata": {},
     "output_type": "display_data"
    }
   ],
   "source": [
    "male_reason_for_stop.plot(kind=\"bar\", xlabel=\"Reasons for Stopping\", ylabel=\"percentage\", title=\"Reasons for Stopping Males'\",color=\"Blue\")\n",
    "plt.style.use(\"ggplot\")"
   ]
  },
  {
   "cell_type": "code",
   "execution_count": 1036,
   "metadata": {},
   "outputs": [],
   "source": [
    "sex_reason_for_stop=df.groupby([\"subject_sex\"]).reason_for_stop.value_counts()"
   ]
  },
  {
   "cell_type": "code",
   "execution_count": 1037,
   "metadata": {},
   "outputs": [
    {
     "data": {
      "text/plain": [
       "subject_sex                                  \n",
       "female       Speeding                             86198\n",
       "             Other Traffic Violation              17911\n",
       "             Equipment/Inspection Violation       14039\n",
       "             Registration Violation                5649\n",
       "             Seatbelt Violation                    3550\n",
       "             Call for Service                      2368\n",
       "             Special Detail/Directed Patrol         665\n",
       "             Motorist Assist/Courtesy               332\n",
       "             Violation of City/Town Ordinance       216\n",
       "             APB                                    109\n",
       "             Suspicious Person                       74\n",
       "             Warrant                                 27\n",
       "male         Speeding                            182538\n",
       "             Other Traffic Violation              72317\n",
       "             Equipment/Inspection Violation       47211\n",
       "             Registration Violation               14181\n",
       "             Special Detail/Directed Patrol       12977\n",
       "             Seatbelt Violation                   12774\n",
       "             Call for Service                      5237\n",
       "             Violation of City/Town Ordinance       820\n",
       "             Motorist Assist/Courtesy               657\n",
       "             APB                                    376\n",
       "             Suspicious Person                      268\n",
       "             Warrant                                 90\n",
       "Name: reason_for_stop, dtype: int64"
      ]
     },
     "execution_count": 1037,
     "metadata": {},
     "output_type": "execute_result"
    }
   ],
   "source": [
    "sex_reason_for_stop"
   ]
  },
  {
   "cell_type": "code",
   "execution_count": 1038,
   "metadata": {},
   "outputs": [
    {
     "data": {
      "text/plain": [
       "reason_for_stop                   subject_sex\n",
       "APB                               female         0.192661\n",
       "                                  male           0.292553\n",
       "Call for Service                  female         0.141047\n",
       "                                  male           0.199351\n",
       "Equipment/Inspection Violation    female         0.061614\n",
       "                                  male           0.060028\n",
       "Motorist Assist/Courtesy          female         0.066265\n",
       "                                  male            0.12481\n",
       "Other Traffic Violation           female          0.05438\n",
       "                                  male           0.058008\n",
       "Registration Violation            female         0.078598\n",
       "                                  male           0.088781\n",
       "Seatbelt Violation                female         0.021972\n",
       "                                  male           0.028026\n",
       "Special Detail/Directed Patrol    female         0.033083\n",
       "                                  male           0.007475\n",
       "Speeding                          female         0.006323\n",
       "                                  male           0.017032\n",
       "Suspicious Person                 female         0.148649\n",
       "                                  male           0.264925\n",
       "Violation of City/Town Ordinance  female         0.055556\n",
       "                                  male           0.057317\n",
       "Warrant                           female         0.555556\n",
       "                                  male                0.6\n",
       "Name: arrest_made, dtype: Float64"
      ]
     },
     "execution_count": 1038,
     "metadata": {},
     "output_type": "execute_result"
    }
   ],
   "source": [
    "df.groupby([\"reason_for_stop\",\"subject_sex\",]).arrest_made.mean()"
   ]
  },
  {
   "cell_type": "code",
   "execution_count": 1040,
   "metadata": {},
   "outputs": [
    {
     "data": {
      "text/plain": [
       "<zip at 0x22bb2595100>"
      ]
     },
     "execution_count": 1040,
     "metadata": {},
     "output_type": "execute_result"
    }
   ],
   "source": [
    "sex_reason_for_stop.items()"
   ]
  },
  {
   "cell_type": "code",
   "execution_count": 1042,
   "metadata": {},
   "outputs": [
    {
     "data": {
      "text/plain": [
       "subject_sex                                  \n",
       "female       Speeding                             86198\n",
       "             Other Traffic Violation              17911\n",
       "             Equipment/Inspection Violation       14039\n",
       "             Registration Violation                5649\n",
       "             Seatbelt Violation                    3550\n",
       "             Call for Service                      2368\n",
       "             Special Detail/Directed Patrol         665\n",
       "             Motorist Assist/Courtesy               332\n",
       "             Violation of City/Town Ordinance       216\n",
       "             APB                                    109\n",
       "             Suspicious Person                       74\n",
       "             Warrant                                 27\n",
       "male         Speeding                            182538\n",
       "             Other Traffic Violation              72317\n",
       "             Equipment/Inspection Violation       47211\n",
       "             Registration Violation               14181\n",
       "             Special Detail/Directed Patrol       12977\n",
       "             Seatbelt Violation                   12774\n",
       "             Call for Service                      5237\n",
       "             Violation of City/Town Ordinance       820\n",
       "             Motorist Assist/Courtesy               657\n",
       "             APB                                    376\n",
       "             Suspicious Person                      268\n",
       "             Warrant                                 90\n",
       "Name: reason_for_stop, dtype: int64"
      ]
     },
     "execution_count": 1042,
     "metadata": {},
     "output_type": "execute_result"
    }
   ],
   "source": [
    "sex_reason_for_stop"
   ]
  },
  {
   "cell_type": "code",
   "execution_count": 1043,
   "metadata": {},
   "outputs": [],
   "source": [
    "female_arrest=df[(df.arrest_made==True) & (df.subject_sex==\"female\")]"
   ]
  },
  {
   "cell_type": "code",
   "execution_count": 1044,
   "metadata": {},
   "outputs": [
    {
     "data": {
      "image/png": "[encoded data removed]",
      "text/plain": [
       "<Figure size 640x480 with 1 Axes>"
      ]
     },
     "metadata": {},
     "output_type": "display_data"
    }
   ],
   "source": [
    "female_arrest[\"reason_for_stop\"].value_counts().plot(kind=\"bar\")\n",
    "plt.style.use(\"ggplot\")"
   ]
  },
  {
   "cell_type": "code",
   "execution_count": 1045,
   "metadata": {},
   "outputs": [],
   "source": [
    "male_arrest=df[(df.arrest_made==True) & (df.subject_sex==\"male\")]"
   ]
  },
  {
   "cell_type": "code",
   "execution_count": 1046,
   "metadata": {},
   "outputs": [
    {
     "data": {
      "image/png": "[encoded data removed]",
      "text/plain": [
       "<Figure size 640x480 with 1 Axes>"
      ]
     },
     "metadata": {},
     "output_type": "display_data"
    }
   ],
   "source": [
    "male_arrest[\"reason_for_stop\"].value_counts().plot(kind=\"bar\",color=\"Blue\")\n",
    "plt.style.use(\"ggplot\")"
   ]
  },
  {
   "cell_type": "code",
   "execution_count": 1047,
   "metadata": {},
   "outputs": [
    {
     "data": {
      "text/plain": [
       "13260"
      ]
     },
     "execution_count": 1047,
     "metadata": {},
     "output_type": "execute_result"
    }
   ],
   "source": [
    "male_arrest[\"reason_for_stop\"].value_counts().sum()"
   ]
  },
  {
   "cell_type": "code",
   "execution_count": 1048,
   "metadata": {},
   "outputs": [
    {
     "data": {
      "text/plain": [
       "3343"
      ]
     },
     "execution_count": 1048,
     "metadata": {},
     "output_type": "execute_result"
    }
   ],
   "source": [
    "female_arrest[\"reason_for_stop\"].value_counts().sum()"
   ]
  },
  {
   "cell_type": "code",
   "execution_count": 1049,
   "metadata": {},
   "outputs": [],
   "source": [
    "## Comparing Speeding Arrests by Gender"
   ]
  },
  {
   "cell_type": "code",
   "execution_count": 1050,
   "metadata": {},
   "outputs": [
    {
     "data": {
      "text/plain": [
       "(545, 15)"
      ]
     },
     "execution_count": 1050,
     "metadata": {},
     "output_type": "execute_result"
    }
   ],
   "source": [
    "female_arrest[female_arrest.reason_for_stop==\"Speeding\"].shape"
   ]
  },
  {
   "cell_type": "code",
   "execution_count": 1051,
   "metadata": {},
   "outputs": [
    {
     "data": {
      "text/plain": [
       "(3109, 15)"
      ]
     },
     "execution_count": 1051,
     "metadata": {},
     "output_type": "execute_result"
    }
   ],
   "source": [
    "male_arrest[male_arrest.reason_for_stop==\"Speeding\"].shape"
   ]
  },
  {
   "cell_type": "code",
   "execution_count": 1052,
   "metadata": {},
   "outputs": [],
   "source": [
    "female_arrest_speeding=female_arrest[female_arrest.reason_for_stop==\"Speeding\"]"
   ]
  },
  {
   "cell_type": "code",
   "execution_count": 1053,
   "metadata": {},
   "outputs": [],
   "source": [
    "### Comparing Speeding Arrests and Alcohol Controls by Gender"
   ]
  },
  {
   "cell_type": "code",
   "execution_count": 1054,
   "metadata": {},
   "outputs": [
    {
     "data": {
      "text/plain": [
       "True     0.882353\n",
       "False    0.117647\n",
       "Name: contraband_alcohol, dtype: Float64"
      ]
     },
     "execution_count": 1054,
     "metadata": {},
     "output_type": "execute_result"
    }
   ],
   "source": [
    "female_arrest_speeding[\"contraband_alcohol\"].value_counts(normalize=True)"
   ]
  },
  {
   "cell_type": "code",
   "execution_count": 1055,
   "metadata": {},
   "outputs": [],
   "source": [
    "male_arrest_speeding=male_arrest[male_arrest.reason_for_stop==\"Speeding\"]"
   ]
  },
  {
   "cell_type": "code",
   "execution_count": 1056,
   "metadata": {},
   "outputs": [
    {
     "data": {
      "text/plain": [
       "True     0.927007\n",
       "False    0.072993\n",
       "Name: contraband_alcohol, dtype: Float64"
      ]
     },
     "execution_count": 1056,
     "metadata": {},
     "output_type": "execute_result"
    }
   ],
   "source": [
    "male_arrest_speeding[\"contraband_alcohol\"].value_counts(normalize=True)"
   ]
  },
  {
   "cell_type": "code",
   "execution_count": 1057,
   "metadata": {},
   "outputs": [
    {
     "data": {
      "text/plain": [
       "0.034545825287968575"
      ]
     },
     "execution_count": 1057,
     "metadata": {},
     "output_type": "execute_result"
    }
   ],
   "source": [
    "df.arrest_made.mean()"
   ]
  },
  {
   "cell_type": "code",
   "execution_count": 1058,
   "metadata": {},
   "outputs": [
    {
     "data": {
      "text/plain": [
       "0.927007299270073"
      ]
     },
     "execution_count": 1058,
     "metadata": {},
     "output_type": "execute_result"
    }
   ],
   "source": [
    "male_arrest_speeding.contraband_alcohol.mean()"
   ]
  },
  {
   "cell_type": "code",
   "execution_count": 1059,
   "metadata": {},
   "outputs": [
    {
     "data": {
      "image/png": "[encoded data removed]",
      "text/plain": [
       "<Figure size 640x480 with 1 Axes>"
      ]
     },
     "metadata": {},
     "output_type": "display_data"
    }
   ],
   "source": [
    "female.groupby(\"zone\")[\"arrest_made\"].mean().plot(kind=\"line\",color=\"red\",linestyle=\"--\",title=\"Arresting Proportion by ZONES\", ylabel=\"Arresting Rate\")\n",
    "male.groupby(\"zone\")[\"arrest_made\"].mean().plot(kind=\"line\", color=\"blue\",linestyle=\"--\")\n",
    "plt.legend([\"female\",\"male\"],frameon=True,loc=\"lower right\")\n",
    "plt.style.use(\"ggplot\")"
   ]
  },
  {
   "cell_type": "code",
   "execution_count": 1060,
   "metadata": {},
   "outputs": [
    {
     "data": {
      "text/plain": [
       "array(['X3', 'X4', 'K3', 'K2', 'K1', 'X1'], dtype=object)"
      ]
     },
     "execution_count": 1060,
     "metadata": {},
     "output_type": "execute_result"
    }
   ],
   "source": [
    "df.zone.unique()"
   ]
  },
  {
   "cell_type": "code",
   "execution_count": 1061,
   "metadata": {},
   "outputs": [
    {
     "data": {
      "text/plain": [
       "zone  subject_sex\n",
       "K1    female         0.015374\n",
       "      male           0.027779\n",
       "K2    female         0.019528\n",
       "      male           0.031619\n",
       "K3    female         0.022614\n",
       "      male           0.035451\n",
       "X1    female         0.020725\n",
       "      male           0.027561\n",
       "X3    female         0.026076\n",
       "      male           0.036446\n",
       "X4    female         0.038155\n",
       "      male           0.050246\n",
       "Name: arrest_made, dtype: Float64"
      ]
     },
     "execution_count": 1061,
     "metadata": {},
     "output_type": "execute_result"
    }
   ],
   "source": [
    "df.groupby([\"zone\",\"subject_sex\"]).arrest_made.mean()"
   ]
  },
  {
   "cell_type": "code",
   "execution_count": 1062,
   "metadata": {},
   "outputs": [
    {
     "data": {
      "text/plain": [
       "['Speeding', 'Other Traffic Violation', 'Equipment/Inspection Violation', 'Motorist Assist/Courtesy', 'Registration Violation', ..., 'Special Detail/Directed Patrol', 'APB', 'Warrant', 'Suspicious Person', 'Seatbelt Violation']\n",
       "Length: 13\n",
       "Categories (12, object): ['APB', 'Call for Service', 'Equipment/Inspection Violation', 'Motorist Assist/Courtesy', ..., 'Speeding', 'Suspicious Person', 'Violation of City/Town Ordinance', 'Warrant']"
      ]
     },
     "execution_count": 1062,
     "metadata": {},
     "output_type": "execute_result"
    }
   ],
   "source": [
    "df.reason_for_stop.unique()"
   ]
  },
  {
   "cell_type": "code",
   "execution_count": 1063,
   "metadata": {},
   "outputs": [
    {
     "data": {
      "text/plain": [
       "Speeding                            268744\n",
       "Other Traffic Violation              90234\n",
       "Equipment/Inspection Violation       61252\n",
       "Registration Violation               19830\n",
       "Seatbelt Violation                   16327\n",
       "Special Detail/Directed Patrol       13642\n",
       "Call for Service                      7609\n",
       "Violation of City/Town Ordinance      1036\n",
       "Motorist Assist/Courtesy               990\n",
       "APB                                    485\n",
       "Suspicious Person                      342\n",
       "Warrant                                117\n",
       "Name: reason_for_stop, dtype: int64"
      ]
     },
     "execution_count": 1063,
     "metadata": {},
     "output_type": "execute_result"
    }
   ],
   "source": [
    "df.reason_for_stop.value_counts()"
   ]
  },
  {
   "cell_type": "code",
   "execution_count": 1064,
   "metadata": {},
   "outputs": [],
   "source": [
    "df[\"violation\"]=df.reason_for_stop.str.contains(\"Violation\",na=False)"
   ]
  },
  {
   "cell_type": "code",
   "execution_count": 1065,
   "metadata": {},
   "outputs": [
    {
     "data": {
      "text/plain": [
       "188679"
      ]
     },
     "execution_count": 1065,
     "metadata": {},
     "output_type": "execute_result"
    }
   ],
   "source": [
    "df.violation.sum()"
   ]
  },
  {
   "cell_type": "code",
   "execution_count": 1066,
   "metadata": {},
   "outputs": [
    {
     "data": {
      "text/plain": [
       "subject_sex\n",
       "female    0.315431\n",
       "male      0.421533\n",
       "Name: violation, dtype: float64"
      ]
     },
     "execution_count": 1066,
     "metadata": {},
     "output_type": "execute_result"
    }
   ],
   "source": [
    "df.groupby(\"subject_sex\").violation.mean()"
   ]
  },
  {
   "cell_type": "code",
   "execution_count": 1067,
   "metadata": {},
   "outputs": [
    {
     "data": {
      "text/plain": [
       "subject_sex\n",
       "female    0.315431\n",
       "male      0.421533\n",
       "Name: violation, dtype: float64"
      ]
     },
     "execution_count": 1067,
     "metadata": {},
     "output_type": "execute_result"
    }
   ],
   "source": [
    "df.groupby(\"subject_sex\").violation.mean()"
   ]
  },
  {
   "cell_type": "code",
   "execution_count": 1068,
   "metadata": {},
   "outputs": [
    {
     "data": {
      "text/html": [
       "<div>\n",
       "<style scoped>\n",
       "    .dataframe tbody tr th:only-of-type {\n",
       "        vertical-align: middle;\n",
       "    }\n",
       "\n",
       "    .dataframe tbody tr th {\n",
       "        vertical-align: top;\n",
       "    }\n",
       "\n",
       "    .dataframe thead th {\n",
       "        text-align: right;\n",
       "    }\n",
       "</style>\n",
       "<table border=\"1\" class=\"dataframe\">\n",
       "  <thead>\n",
       "    <tr style=\"text-align: right;\">\n",
       "      <th></th>\n",
       "      <th>date</th>\n",
       "      <th>time</th>\n",
       "      <th>zone</th>\n",
       "      <th>subject_race</th>\n",
       "      <th>subject_sex</th>\n",
       "      <th>department_id</th>\n",
       "      <th>type</th>\n",
       "      <th>arrest_made</th>\n",
       "      <th>contraband_found</th>\n",
       "      <th>contraband_drugs</th>\n",
       "      <th>contraband_weapons</th>\n",
       "      <th>contraband_alcohol</th>\n",
       "      <th>reason_for_search</th>\n",
       "      <th>reason_for_stop</th>\n",
       "      <th>date_time</th>\n",
       "      <th>violation</th>\n",
       "    </tr>\n",
       "  </thead>\n",
       "  <tbody>\n",
       "    <tr>\n",
       "      <th>0</th>\n",
       "      <td>22-11-2005</td>\n",
       "      <td>11:15:00</td>\n",
       "      <td>X3</td>\n",
       "      <td>white</td>\n",
       "      <td>male</td>\n",
       "      <td>200</td>\n",
       "      <td>vehicular</td>\n",
       "      <td>False</td>\n",
       "      <td>&lt;NA&gt;</td>\n",
       "      <td>&lt;NA&gt;</td>\n",
       "      <td>&lt;NA&gt;</td>\n",
       "      <td>&lt;NA&gt;</td>\n",
       "      <td>NaN</td>\n",
       "      <td>Speeding</td>\n",
       "      <td>2005-11-22 11:15:00</td>\n",
       "      <td>False</td>\n",
       "    </tr>\n",
       "    <tr>\n",
       "      <th>1</th>\n",
       "      <td>01-10-2005</td>\n",
       "      <td>12:20:00</td>\n",
       "      <td>X3</td>\n",
       "      <td>white</td>\n",
       "      <td>male</td>\n",
       "      <td>200</td>\n",
       "      <td>vehicular</td>\n",
       "      <td>False</td>\n",
       "      <td>&lt;NA&gt;</td>\n",
       "      <td>&lt;NA&gt;</td>\n",
       "      <td>&lt;NA&gt;</td>\n",
       "      <td>&lt;NA&gt;</td>\n",
       "      <td>NaN</td>\n",
       "      <td>Speeding</td>\n",
       "      <td>2005-01-10 12:20:00</td>\n",
       "      <td>False</td>\n",
       "    </tr>\n",
       "    <tr>\n",
       "      <th>2</th>\n",
       "      <td>01-10-2005</td>\n",
       "      <td>12:30:00</td>\n",
       "      <td>X3</td>\n",
       "      <td>white</td>\n",
       "      <td>female</td>\n",
       "      <td>200</td>\n",
       "      <td>vehicular</td>\n",
       "      <td>False</td>\n",
       "      <td>&lt;NA&gt;</td>\n",
       "      <td>&lt;NA&gt;</td>\n",
       "      <td>&lt;NA&gt;</td>\n",
       "      <td>&lt;NA&gt;</td>\n",
       "      <td>NaN</td>\n",
       "      <td>Speeding</td>\n",
       "      <td>2005-01-10 12:30:00</td>\n",
       "      <td>False</td>\n",
       "    </tr>\n",
       "    <tr>\n",
       "      <th>3</th>\n",
       "      <td>01-10-2005</td>\n",
       "      <td>12:50:00</td>\n",
       "      <td>X3</td>\n",
       "      <td>white</td>\n",
       "      <td>male</td>\n",
       "      <td>200</td>\n",
       "      <td>vehicular</td>\n",
       "      <td>False</td>\n",
       "      <td>&lt;NA&gt;</td>\n",
       "      <td>&lt;NA&gt;</td>\n",
       "      <td>&lt;NA&gt;</td>\n",
       "      <td>&lt;NA&gt;</td>\n",
       "      <td>NaN</td>\n",
       "      <td>Speeding</td>\n",
       "      <td>2005-01-10 12:50:00</td>\n",
       "      <td>False</td>\n",
       "    </tr>\n",
       "    <tr>\n",
       "      <th>4</th>\n",
       "      <td>01-10-2005</td>\n",
       "      <td>13:10:00</td>\n",
       "      <td>X3</td>\n",
       "      <td>white</td>\n",
       "      <td>female</td>\n",
       "      <td>200</td>\n",
       "      <td>vehicular</td>\n",
       "      <td>False</td>\n",
       "      <td>&lt;NA&gt;</td>\n",
       "      <td>&lt;NA&gt;</td>\n",
       "      <td>&lt;NA&gt;</td>\n",
       "      <td>&lt;NA&gt;</td>\n",
       "      <td>NaN</td>\n",
       "      <td>Speeding</td>\n",
       "      <td>2005-01-10 13:10:00</td>\n",
       "      <td>False</td>\n",
       "    </tr>\n",
       "  </tbody>\n",
       "</table>\n",
       "</div>"
      ],
      "text/plain": [
       "         date      time zone subject_race subject_sex department_id  \\\n",
       "0  22-11-2005  11:15:00   X3        white        male           200   \n",
       "1  01-10-2005  12:20:00   X3        white        male           200   \n",
       "2  01-10-2005  12:30:00   X3        white      female           200   \n",
       "3  01-10-2005  12:50:00   X3        white        male           200   \n",
       "4  01-10-2005  13:10:00   X3        white      female           200   \n",
       "\n",
       "        type  arrest_made  contraband_found  contraband_drugs  \\\n",
       "0  vehicular        False              <NA>              <NA>   \n",
       "1  vehicular        False              <NA>              <NA>   \n",
       "2  vehicular        False              <NA>              <NA>   \n",
       "3  vehicular        False              <NA>              <NA>   \n",
       "4  vehicular        False              <NA>              <NA>   \n",
       "\n",
       "   contraband_weapons  contraband_alcohol reason_for_search reason_for_stop  \\\n",
       "0                <NA>                <NA>               NaN        Speeding   \n",
       "1                <NA>                <NA>               NaN        Speeding   \n",
       "2                <NA>                <NA>               NaN        Speeding   \n",
       "3                <NA>                <NA>               NaN        Speeding   \n",
       "4                <NA>                <NA>               NaN        Speeding   \n",
       "\n",
       "            date_time  violation  \n",
       "0 2005-11-22 11:15:00      False  \n",
       "1 2005-01-10 12:20:00      False  \n",
       "2 2005-01-10 12:30:00      False  \n",
       "3 2005-01-10 12:50:00      False  \n",
       "4 2005-01-10 13:10:00      False  "
      ]
     },
     "execution_count": 1068,
     "metadata": {},
     "output_type": "execute_result"
    }
   ],
   "source": [
    "df.head()"
   ]
  },
  {
   "cell_type": "code",
   "execution_count": 1069,
   "metadata": {},
   "outputs": [],
   "source": [
    "df.set_index(\"date_time\",inplace=True)"
   ]
  },
  {
   "cell_type": "code",
   "execution_count": 1070,
   "metadata": {},
   "outputs": [
    {
     "data": {
      "text/plain": [
       "DatetimeIndex(['2005-11-22 11:15:00', '2005-01-10 12:20:00',\n",
       "               '2005-01-10 12:30:00', '2005-01-10 12:50:00',\n",
       "               '2005-01-10 13:10:00', '2005-01-10 15:50:00',\n",
       "               '2005-11-09 11:45:00', '2005-11-09 11:45:00',\n",
       "               '2005-04-10 11:55:00', '2005-04-10 11:55:00',\n",
       "               ...\n",
       "               '2015-12-27 12:45:00', '2015-12-27 13:43:00',\n",
       "               '2015-12-28 02:29:00', '2015-12-30 11:42:00',\n",
       "               '2015-09-11 00:23:00', '2015-08-16 13:37:00',\n",
       "               '2015-04-08 10:40:00', '2015-12-20 11:17:00',\n",
       "               '2015-09-11 23:35:00', '2015-10-30 11:09:00'],\n",
       "              dtype='datetime64[ns]', name='date_time', length=509671, freq=None)"
      ]
     },
     "execution_count": 1070,
     "metadata": {},
     "output_type": "execute_result"
    }
   ],
   "source": [
    "df.index"
   ]
  },
  {
   "cell_type": "code",
   "execution_count": 1071,
   "metadata": {},
   "outputs": [
    {
     "data": {
      "text/plain": [
       "Int64Index([11,  1,  1,  1,  1,  1, 11, 11,  4,  4,\n",
       "            ...\n",
       "            12, 12, 12, 12,  9,  8,  4, 12,  9, 10],\n",
       "           dtype='int64', name='date_time', length=509671)"
      ]
     },
     "execution_count": 1071,
     "metadata": {},
     "output_type": "execute_result"
    }
   ],
   "source": [
    "df.index.month"
   ]
  },
  {
   "cell_type": "code",
   "execution_count": 1072,
   "metadata": {},
   "outputs": [],
   "source": [
    "monthly_arrest_rate=df.groupby(df.index.month).arrest_made.mean()"
   ]
  },
  {
   "cell_type": "code",
   "execution_count": 1073,
   "metadata": {},
   "outputs": [
    {
     "data": {
      "image/png": "[encoded data removed]",
      "text/plain": [
       "<Figure size 640x480 with 1 Axes>"
      ]
     },
     "metadata": {},
     "output_type": "display_data"
    }
   ],
   "source": [
    "monthly_arrest_rate.plot()\n",
    "plt.xlabel(\"Month\")\n",
    "plt.ylabel(\"Arrest Rate\")\n",
    "plt.title(\"Arrest Proportion by Month of the Year\")\n",
    "plt.style.use(\"ggplot\")"
   ]
  },
  {
   "cell_type": "code",
   "execution_count": 1074,
   "metadata": {},
   "outputs": [
    {
     "data": {
      "text/plain": [
       "date_time\n",
       "0     0.052142\n",
       "1     0.067121\n",
       "2     0.061063\n",
       "3     0.052604\n",
       "4     0.053897\n",
       "5     0.032657\n",
       "6     0.012948\n",
       "7     0.013829\n",
       "8     0.019714\n",
       "9     0.024698\n",
       "10    0.025582\n",
       "11    0.027078\n",
       "12    0.031359\n",
       "13    0.030248\n",
       "14    0.031529\n",
       "15    0.032124\n",
       "16    0.033519\n",
       "17    0.038989\n",
       "18    0.039898\n",
       "19    0.031366\n",
       "20    0.039292\n",
       "21    0.059956\n",
       "22     0.04398\n",
       "23    0.045084\n",
       "Name: arrest_made, dtype: Float64"
      ]
     },
     "execution_count": 1074,
     "metadata": {},
     "output_type": "execute_result"
    }
   ],
   "source": [
    "hourly_arrest_rate=df.groupby(df.index.hour).arrest_made.mean()\n",
    "hourly_arrest_rate"
   ]
  },
  {
   "cell_type": "code",
   "execution_count": 1075,
   "metadata": {},
   "outputs": [
    {
     "data": {
      "image/png": "[encoded data removed]",
      "text/plain": [
       "<Figure size 640x480 with 1 Axes>"
      ]
     },
     "metadata": {},
     "output_type": "display_data"
    }
   ],
   "source": [
    "hourly_arrest_rate.plot()\n",
    "plt.xlabel(\"Hour\")\n",
    "plt.ylabel(\"Arrest Rate\")\n",
    "plt.title(\"Arrest Proportion by Time of the Day\")\n",
    "plt.style.use(\"ggplot\")\n",
    "plt.show()"
   ]
  },
  {
   "cell_type": "code",
   "execution_count": 1096,
   "metadata": {},
   "outputs": [
    {
     "data": {
      "text/html": [
       "<div>\n",
       "<style scoped>\n",
       "    .dataframe tbody tr th:only-of-type {\n",
       "        vertical-align: middle;\n",
       "    }\n",
       "\n",
       "    .dataframe tbody tr th {\n",
       "        vertical-align: top;\n",
       "    }\n",
       "\n",
       "    .dataframe thead th {\n",
       "        text-align: right;\n",
       "    }\n",
       "</style>\n",
       "<table border=\"1\" class=\"dataframe\">\n",
       "  <thead>\n",
       "    <tr style=\"text-align: right;\">\n",
       "      <th></th>\n",
       "      <th>date</th>\n",
       "      <th>time</th>\n",
       "      <th>zone</th>\n",
       "      <th>subject_race</th>\n",
       "      <th>subject_sex</th>\n",
       "      <th>department_id</th>\n",
       "      <th>type</th>\n",
       "      <th>arrest_made</th>\n",
       "      <th>contraband_found</th>\n",
       "      <th>contraband_drugs</th>\n",
       "      <th>contraband_weapons</th>\n",
       "      <th>contraband_alcohol</th>\n",
       "      <th>reason_for_search</th>\n",
       "      <th>reason_for_stop</th>\n",
       "    </tr>\n",
       "    <tr>\n",
       "      <th>date_time</th>\n",
       "      <th></th>\n",
       "      <th></th>\n",
       "      <th></th>\n",
       "      <th></th>\n",
       "      <th></th>\n",
       "      <th></th>\n",
       "      <th></th>\n",
       "      <th></th>\n",
       "      <th></th>\n",
       "      <th></th>\n",
       "      <th></th>\n",
       "      <th></th>\n",
       "      <th></th>\n",
       "      <th></th>\n",
       "    </tr>\n",
       "  </thead>\n",
       "  <tbody>\n",
       "    <tr>\n",
       "      <th>2005-01-10 12:30:00</th>\n",
       "      <td>01-10-2005</td>\n",
       "      <td>12:30:00</td>\n",
       "      <td>X3</td>\n",
       "      <td>white</td>\n",
       "      <td>female</td>\n",
       "      <td>200</td>\n",
       "      <td>vehicular</td>\n",
       "      <td>False</td>\n",
       "      <td>&lt;NA&gt;</td>\n",
       "      <td>&lt;NA&gt;</td>\n",
       "      <td>&lt;NA&gt;</td>\n",
       "      <td>&lt;NA&gt;</td>\n",
       "      <td>NaN</td>\n",
       "      <td>Speeding</td>\n",
       "    </tr>\n",
       "    <tr>\n",
       "      <th>2005-01-10 13:10:00</th>\n",
       "      <td>01-10-2005</td>\n",
       "      <td>13:10:00</td>\n",
       "      <td>X3</td>\n",
       "      <td>white</td>\n",
       "      <td>female</td>\n",
       "      <td>200</td>\n",
       "      <td>vehicular</td>\n",
       "      <td>False</td>\n",
       "      <td>&lt;NA&gt;</td>\n",
       "      <td>&lt;NA&gt;</td>\n",
       "      <td>&lt;NA&gt;</td>\n",
       "      <td>&lt;NA&gt;</td>\n",
       "      <td>NaN</td>\n",
       "      <td>Speeding</td>\n",
       "    </tr>\n",
       "    <tr>\n",
       "      <th>2005-11-09 11:45:00</th>\n",
       "      <td>11-09-2005</td>\n",
       "      <td>11:45:00</td>\n",
       "      <td>X3</td>\n",
       "      <td>white</td>\n",
       "      <td>female</td>\n",
       "      <td>200</td>\n",
       "      <td>vehicular</td>\n",
       "      <td>False</td>\n",
       "      <td>&lt;NA&gt;</td>\n",
       "      <td>&lt;NA&gt;</td>\n",
       "      <td>&lt;NA&gt;</td>\n",
       "      <td>&lt;NA&gt;</td>\n",
       "      <td>NaN</td>\n",
       "      <td>Speeding</td>\n",
       "    </tr>\n",
       "    <tr>\n",
       "      <th>2005-04-10 14:28:00</th>\n",
       "      <td>04-10-2005</td>\n",
       "      <td>14:28:00</td>\n",
       "      <td>X3</td>\n",
       "      <td>white</td>\n",
       "      <td>female</td>\n",
       "      <td>200</td>\n",
       "      <td>vehicular</td>\n",
       "      <td>False</td>\n",
       "      <td>&lt;NA&gt;</td>\n",
       "      <td>&lt;NA&gt;</td>\n",
       "      <td>&lt;NA&gt;</td>\n",
       "      <td>&lt;NA&gt;</td>\n",
       "      <td>NaN</td>\n",
       "      <td>Speeding</td>\n",
       "    </tr>\n",
       "    <tr>\n",
       "      <th>2005-10-10 18:10:00</th>\n",
       "      <td>10-10-2005</td>\n",
       "      <td>18:10:00</td>\n",
       "      <td>X3</td>\n",
       "      <td>white</td>\n",
       "      <td>female</td>\n",
       "      <td>200</td>\n",
       "      <td>vehicular</td>\n",
       "      <td>False</td>\n",
       "      <td>&lt;NA&gt;</td>\n",
       "      <td>&lt;NA&gt;</td>\n",
       "      <td>&lt;NA&gt;</td>\n",
       "      <td>&lt;NA&gt;</td>\n",
       "      <td>NaN</td>\n",
       "      <td>Other Traffic Violation</td>\n",
       "    </tr>\n",
       "  </tbody>\n",
       "</table>\n",
       "</div>"
      ],
      "text/plain": [
       "                           date      time zone subject_race subject_sex  \\\n",
       "date_time                                                                 \n",
       "2005-01-10 12:30:00  01-10-2005  12:30:00   X3        white      female   \n",
       "2005-01-10 13:10:00  01-10-2005  13:10:00   X3        white      female   \n",
       "2005-11-09 11:45:00  11-09-2005  11:45:00   X3        white      female   \n",
       "2005-04-10 14:28:00  04-10-2005  14:28:00   X3        white      female   \n",
       "2005-10-10 18:10:00  10-10-2005  18:10:00   X3        white      female   \n",
       "\n",
       "                    department_id       type  arrest_made  contraband_found  \\\n",
       "date_time                                                                     \n",
       "2005-01-10 12:30:00           200  vehicular        False              <NA>   \n",
       "2005-01-10 13:10:00           200  vehicular        False              <NA>   \n",
       "2005-11-09 11:45:00           200  vehicular        False              <NA>   \n",
       "2005-04-10 14:28:00           200  vehicular        False              <NA>   \n",
       "2005-10-10 18:10:00           200  vehicular        False              <NA>   \n",
       "\n",
       "                     contraband_drugs  contraband_weapons  contraband_alcohol  \\\n",
       "date_time                                                                       \n",
       "2005-01-10 12:30:00              <NA>                <NA>                <NA>   \n",
       "2005-01-10 13:10:00              <NA>                <NA>                <NA>   \n",
       "2005-11-09 11:45:00              <NA>                <NA>                <NA>   \n",
       "2005-04-10 14:28:00              <NA>                <NA>                <NA>   \n",
       "2005-10-10 18:10:00              <NA>                <NA>                <NA>   \n",
       "\n",
       "                    reason_for_search          reason_for_stop  \n",
       "date_time                                                       \n",
       "2005-01-10 12:30:00               NaN                 Speeding  \n",
       "2005-01-10 13:10:00               NaN                 Speeding  \n",
       "2005-11-09 11:45:00               NaN                 Speeding  \n",
       "2005-04-10 14:28:00               NaN                 Speeding  \n",
       "2005-10-10 18:10:00               NaN  Other Traffic Violation  "
      ]
     },
     "execution_count": 1096,
     "metadata": {},
     "output_type": "execute_result"
    }
   ],
   "source": [
    "female.head()\n"
   ]
  },
  {
   "cell_type": "code",
   "execution_count": 1077,
   "metadata": {},
   "outputs": [],
   "source": [
    "female.set_index(\"date_time\",inplace=True)\n",
    "male.set_index(\"date_time\",inplace=True)"
   ]
  },
  {
   "cell_type": "code",
   "execution_count": 1078,
   "metadata": {},
   "outputs": [
    {
     "data": {
      "text/plain": [
       "male      349446\n",
       "female    131138\n",
       "Name: subject_sex, dtype: int64"
      ]
     },
     "execution_count": 1078,
     "metadata": {},
     "output_type": "execute_result"
    }
   ],
   "source": [
    "df.subject_sex.value_counts()"
   ]
  },
  {
   "cell_type": "code",
   "execution_count": 1079,
   "metadata": {},
   "outputs": [
    {
     "data": {
      "text/plain": [
       "date_time\n",
       "2005-12-31     3699\n",
       "2006-12-31    15695\n",
       "2007-12-31    14481\n",
       "2008-12-31    11819\n",
       "2009-12-31     9594\n",
       "2010-12-31     9886\n",
       "2011-12-31    10800\n",
       "2012-12-31    16072\n",
       "2013-12-31    12245\n",
       "2014-12-31    14079\n",
       "2015-12-31    12768\n",
       "Freq: A-DEC, Name: arrest_made, dtype: int64"
      ]
     },
     "execution_count": 1079,
     "metadata": {},
     "output_type": "execute_result"
    }
   ],
   "source": [
    "annual_female_arrest=female.resample(\"A\").arrest_made.count()\n",
    "annual_female_arrest"
   ]
  },
  {
   "cell_type": "code",
   "execution_count": 1080,
   "metadata": {},
   "outputs": [
    {
     "data": {
      "text/plain": [
       "date_time\n",
       "2005-12-31    10110\n",
       "2006-12-31    39857\n",
       "2007-12-31    35658\n",
       "2008-12-31    33751\n",
       "2009-12-31    30226\n",
       "2010-12-31    29554\n",
       "2011-12-31    31830\n",
       "2012-12-31    41553\n",
       "2013-12-31    29677\n",
       "2014-12-31    34799\n",
       "2015-12-31    32431\n",
       "Freq: A-DEC, Name: arrest_made, dtype: int64"
      ]
     },
     "execution_count": 1080,
     "metadata": {},
     "output_type": "execute_result"
    }
   ],
   "source": [
    "annual_male_arrest=male.resample(\"A\").arrest_made.count()\n",
    "annual_male_arrest"
   ]
  },
  {
   "cell_type": "code",
   "execution_count": 1081,
   "metadata": {},
   "outputs": [
    {
     "data": {
      "text/html": [
       "<div>\n",
       "<style scoped>\n",
       "    .dataframe tbody tr th:only-of-type {\n",
       "        vertical-align: middle;\n",
       "    }\n",
       "\n",
       "    .dataframe tbody tr th {\n",
       "        vertical-align: top;\n",
       "    }\n",
       "\n",
       "    .dataframe thead th {\n",
       "        text-align: right;\n",
       "    }\n",
       "</style>\n",
       "<table border=\"1\" class=\"dataframe\">\n",
       "  <thead>\n",
       "    <tr style=\"text-align: right;\">\n",
       "      <th></th>\n",
       "      <th>arrest_made</th>\n",
       "      <th>arrest_made</th>\n",
       "    </tr>\n",
       "    <tr>\n",
       "      <th>date_time</th>\n",
       "      <th></th>\n",
       "      <th></th>\n",
       "    </tr>\n",
       "  </thead>\n",
       "  <tbody>\n",
       "    <tr>\n",
       "      <th>2005-12-31</th>\n",
       "      <td>3699</td>\n",
       "      <td>10110</td>\n",
       "    </tr>\n",
       "    <tr>\n",
       "      <th>2006-12-31</th>\n",
       "      <td>15695</td>\n",
       "      <td>39857</td>\n",
       "    </tr>\n",
       "    <tr>\n",
       "      <th>2007-12-31</th>\n",
       "      <td>14481</td>\n",
       "      <td>35658</td>\n",
       "    </tr>\n",
       "    <tr>\n",
       "      <th>2008-12-31</th>\n",
       "      <td>11819</td>\n",
       "      <td>33751</td>\n",
       "    </tr>\n",
       "    <tr>\n",
       "      <th>2009-12-31</th>\n",
       "      <td>9594</td>\n",
       "      <td>30226</td>\n",
       "    </tr>\n",
       "    <tr>\n",
       "      <th>2010-12-31</th>\n",
       "      <td>9886</td>\n",
       "      <td>29554</td>\n",
       "    </tr>\n",
       "    <tr>\n",
       "      <th>2011-12-31</th>\n",
       "      <td>10800</td>\n",
       "      <td>31830</td>\n",
       "    </tr>\n",
       "    <tr>\n",
       "      <th>2012-12-31</th>\n",
       "      <td>16072</td>\n",
       "      <td>41553</td>\n",
       "    </tr>\n",
       "    <tr>\n",
       "      <th>2013-12-31</th>\n",
       "      <td>12245</td>\n",
       "      <td>29677</td>\n",
       "    </tr>\n",
       "    <tr>\n",
       "      <th>2014-12-31</th>\n",
       "      <td>14079</td>\n",
       "      <td>34799</td>\n",
       "    </tr>\n",
       "    <tr>\n",
       "      <th>2015-12-31</th>\n",
       "      <td>12768</td>\n",
       "      <td>32431</td>\n",
       "    </tr>\n",
       "  </tbody>\n",
       "</table>\n",
       "</div>"
      ],
      "text/plain": [
       "            arrest_made  arrest_made\n",
       "date_time                           \n",
       "2005-12-31         3699        10110\n",
       "2006-12-31        15695        39857\n",
       "2007-12-31        14481        35658\n",
       "2008-12-31        11819        33751\n",
       "2009-12-31         9594        30226\n",
       "2010-12-31         9886        29554\n",
       "2011-12-31        10800        31830\n",
       "2012-12-31        16072        41553\n",
       "2013-12-31        12245        29677\n",
       "2014-12-31        14079        34799\n",
       "2015-12-31        12768        32431"
      ]
     },
     "execution_count": 1081,
     "metadata": {},
     "output_type": "execute_result"
    }
   ],
   "source": [
    "annuel_arrest=pd.concat([annual_female_arrest,annual_male_arrest],axis='columns')\n",
    "annuel_arrest"
   ]
  },
  {
   "cell_type": "code",
   "execution_count": 1082,
   "metadata": {},
   "outputs": [
    {
     "data": {
      "text/plain": [
       "Index(['arrest_made', 'arrest_made'], dtype='object')"
      ]
     },
     "execution_count": 1082,
     "metadata": {},
     "output_type": "execute_result"
    }
   ],
   "source": [
    "annuel_arrest.columns"
   ]
  },
  {
   "cell_type": "code",
   "execution_count": 1083,
   "metadata": {},
   "outputs": [],
   "source": [
    "annuel_arrest.columns=[\"female_arrest\",\"male_arrest\"]"
   ]
  },
  {
   "cell_type": "code",
   "execution_count": 1084,
   "metadata": {},
   "outputs": [
    {
     "data": {
      "text/html": [
       "<div>\n",
       "<style scoped>\n",
       "    .dataframe tbody tr th:only-of-type {\n",
       "        vertical-align: middle;\n",
       "    }\n",
       "\n",
       "    .dataframe tbody tr th {\n",
       "        vertical-align: top;\n",
       "    }\n",
       "\n",
       "    .dataframe thead th {\n",
       "        text-align: right;\n",
       "    }\n",
       "</style>\n",
       "<table border=\"1\" class=\"dataframe\">\n",
       "  <thead>\n",
       "    <tr style=\"text-align: right;\">\n",
       "      <th></th>\n",
       "      <th>female_arrest</th>\n",
       "      <th>male_arrest</th>\n",
       "    </tr>\n",
       "    <tr>\n",
       "      <th>date_time</th>\n",
       "      <th></th>\n",
       "      <th></th>\n",
       "    </tr>\n",
       "  </thead>\n",
       "  <tbody>\n",
       "    <tr>\n",
       "      <th>2005-12-31</th>\n",
       "      <td>3699</td>\n",
       "      <td>10110</td>\n",
       "    </tr>\n",
       "    <tr>\n",
       "      <th>2006-12-31</th>\n",
       "      <td>15695</td>\n",
       "      <td>39857</td>\n",
       "    </tr>\n",
       "    <tr>\n",
       "      <th>2007-12-31</th>\n",
       "      <td>14481</td>\n",
       "      <td>35658</td>\n",
       "    </tr>\n",
       "    <tr>\n",
       "      <th>2008-12-31</th>\n",
       "      <td>11819</td>\n",
       "      <td>33751</td>\n",
       "    </tr>\n",
       "    <tr>\n",
       "      <th>2009-12-31</th>\n",
       "      <td>9594</td>\n",
       "      <td>30226</td>\n",
       "    </tr>\n",
       "    <tr>\n",
       "      <th>2010-12-31</th>\n",
       "      <td>9886</td>\n",
       "      <td>29554</td>\n",
       "    </tr>\n",
       "    <tr>\n",
       "      <th>2011-12-31</th>\n",
       "      <td>10800</td>\n",
       "      <td>31830</td>\n",
       "    </tr>\n",
       "    <tr>\n",
       "      <th>2012-12-31</th>\n",
       "      <td>16072</td>\n",
       "      <td>41553</td>\n",
       "    </tr>\n",
       "    <tr>\n",
       "      <th>2013-12-31</th>\n",
       "      <td>12245</td>\n",
       "      <td>29677</td>\n",
       "    </tr>\n",
       "    <tr>\n",
       "      <th>2014-12-31</th>\n",
       "      <td>14079</td>\n",
       "      <td>34799</td>\n",
       "    </tr>\n",
       "    <tr>\n",
       "      <th>2015-12-31</th>\n",
       "      <td>12768</td>\n",
       "      <td>32431</td>\n",
       "    </tr>\n",
       "  </tbody>\n",
       "</table>\n",
       "</div>"
      ],
      "text/plain": [
       "            female_arrest  male_arrest\n",
       "date_time                             \n",
       "2005-12-31           3699        10110\n",
       "2006-12-31          15695        39857\n",
       "2007-12-31          14481        35658\n",
       "2008-12-31          11819        33751\n",
       "2009-12-31           9594        30226\n",
       "2010-12-31           9886        29554\n",
       "2011-12-31          10800        31830\n",
       "2012-12-31          16072        41553\n",
       "2013-12-31          12245        29677\n",
       "2014-12-31          14079        34799\n",
       "2015-12-31          12768        32431"
      ]
     },
     "execution_count": 1084,
     "metadata": {},
     "output_type": "execute_result"
    }
   ],
   "source": [
    "annuel_arrest"
   ]
  },
  {
   "cell_type": "code",
   "execution_count": 1085,
   "metadata": {},
   "outputs": [
    {
     "data": {
      "text/plain": [
       "<matplotlib.legend.Legend at 0x22bb254d550>"
      ]
     },
     "execution_count": 1085,
     "metadata": {},
     "output_type": "execute_result"
    },
    {
     "data": {
      "image/png": "[encoded data removed]",
      "text/plain": [
       "<Figure size 640x480 with 1 Axes>"
      ]
     },
     "metadata": {},
     "output_type": "display_data"
    }
   ],
   "source": [
    "annuel_arrest.plot(style=\"--\",color=\"rb\")\n",
    "plt.xlabel(\"Year\")\n",
    "plt.ylabel(\"Arresting Count\")\n",
    "plt.title(\"Arresting Count by Year\")\n",
    "plt.style.use(\"ggplot\")\n",
    "plt.legend(frameon=True,loc=\"lower right\")"
   ]
  },
  {
   "cell_type": "code",
   "execution_count": 1086,
   "metadata": {},
   "outputs": [
    {
     "data": {
      "text/plain": [
       "date_time\n",
       "2005-12-31    0.262857\n",
       "2006-12-31    0.275632\n",
       "2007-12-31    0.308389\n",
       "2008-12-31    0.312986\n",
       "2009-12-31    0.332997\n",
       "2010-12-31    0.354819\n",
       "2011-12-31    0.387578\n",
       "2012-12-31    0.406989\n",
       "2013-12-31    0.493432\n",
       "2014-12-31    0.503392\n",
       "2015-12-31    0.502385\n",
       "Freq: A-DEC, Name: contraband_found, dtype: Float64"
      ]
     },
     "execution_count": 1086,
     "metadata": {},
     "output_type": "execute_result"
    }
   ],
   "source": [
    "annuel_contraband_found=df.contraband_found.resample(\"A\").mean()\n",
    "annuel_contraband_found"
   ]
  },
  {
   "cell_type": "code",
   "execution_count": 1087,
   "metadata": {},
   "outputs": [
    {
     "data": {
      "text/plain": [
       "date_time\n",
       "2005-12-31    0.177033\n",
       "2006-12-31    0.193582\n",
       "2007-12-31     0.22524\n",
       "2008-12-31    0.217172\n",
       "2009-12-31    0.238669\n",
       "2010-12-31     0.27027\n",
       "2011-12-31    0.329939\n",
       "2012-12-31    0.349971\n",
       "2013-12-31    0.445837\n",
       "2014-12-31    0.467683\n",
       "2015-12-31    0.433484\n",
       "Freq: A-DEC, Name: contraband_drugs, dtype: Float64"
      ]
     },
     "execution_count": 1087,
     "metadata": {},
     "output_type": "execute_result"
    }
   ],
   "source": [
    "annuel_contraband_drugs=df.contraband_drugs.resample(\"A\").mean()\n",
    "annuel_contraband_drugs\n"
   ]
  },
  {
   "cell_type": "code",
   "execution_count": 1088,
   "metadata": {},
   "outputs": [
    {
     "data": {
      "text/plain": [
       "date_time\n",
       "2005-12-31    0.045872\n",
       "2006-12-31    0.032704\n",
       "2007-12-31    0.043762\n",
       "2008-12-31    0.048276\n",
       "2009-12-31     0.03701\n",
       "2010-12-31    0.043363\n",
       "2011-12-31    0.035645\n",
       "2012-12-31    0.037359\n",
       "2013-12-31    0.047401\n",
       "2014-12-31    0.050441\n",
       "2015-12-31    0.060294\n",
       "Freq: A-DEC, Name: contraband_weapons, dtype: Float64"
      ]
     },
     "execution_count": 1088,
     "metadata": {},
     "output_type": "execute_result"
    }
   ],
   "source": [
    "annuel_contraband_weapons=df.contraband_weapons.resample(\"A\").mean()\n",
    "annuel_contraband_weapons"
   ]
  },
  {
   "cell_type": "code",
   "execution_count": 1089,
   "metadata": {},
   "outputs": [
    {
     "data": {
      "text/plain": [
       "date_time\n",
       "2005-12-31    0.946429\n",
       "2006-12-31    0.958904\n",
       "2007-12-31    0.942857\n",
       "2008-12-31    0.970149\n",
       "2009-12-31    0.952381\n",
       "2010-12-31        0.92\n",
       "2011-12-31    0.854369\n",
       "2012-12-31    0.983051\n",
       "2013-12-31    0.911392\n",
       "2014-12-31    0.704545\n",
       "2015-12-31    0.901961\n",
       "Freq: A-DEC, Name: contraband_alcohol, dtype: Float64"
      ]
     },
     "execution_count": 1089,
     "metadata": {},
     "output_type": "execute_result"
    }
   ],
   "source": [
    "annuel_contraband_alcohol=df.contraband_alcohol.resample(\"A\").mean()\n",
    "annuel_contraband_alcohol"
   ]
  },
  {
   "cell_type": "code",
   "execution_count": 1090,
   "metadata": {},
   "outputs": [
    {
     "data": {
      "text/html": [
       "<div>\n",
       "<style scoped>\n",
       "    .dataframe tbody tr th:only-of-type {\n",
       "        vertical-align: middle;\n",
       "    }\n",
       "\n",
       "    .dataframe tbody tr th {\n",
       "        vertical-align: top;\n",
       "    }\n",
       "\n",
       "    .dataframe thead th {\n",
       "        text-align: right;\n",
       "    }\n",
       "</style>\n",
       "<table border=\"1\" class=\"dataframe\">\n",
       "  <thead>\n",
       "    <tr style=\"text-align: right;\">\n",
       "      <th></th>\n",
       "      <th>contraband_found</th>\n",
       "      <th>contraband_drugs</th>\n",
       "      <th>contraband_weapons</th>\n",
       "      <th>contraband_alcohol</th>\n",
       "    </tr>\n",
       "    <tr>\n",
       "      <th>date_time</th>\n",
       "      <th></th>\n",
       "      <th></th>\n",
       "      <th></th>\n",
       "      <th></th>\n",
       "    </tr>\n",
       "  </thead>\n",
       "  <tbody>\n",
       "    <tr>\n",
       "      <th>2005-12-31</th>\n",
       "      <td>0.262857</td>\n",
       "      <td>0.177033</td>\n",
       "      <td>0.045872</td>\n",
       "      <td>0.946429</td>\n",
       "    </tr>\n",
       "    <tr>\n",
       "      <th>2006-12-31</th>\n",
       "      <td>0.275632</td>\n",
       "      <td>0.193582</td>\n",
       "      <td>0.032704</td>\n",
       "      <td>0.958904</td>\n",
       "    </tr>\n",
       "    <tr>\n",
       "      <th>2007-12-31</th>\n",
       "      <td>0.308389</td>\n",
       "      <td>0.22524</td>\n",
       "      <td>0.043762</td>\n",
       "      <td>0.942857</td>\n",
       "    </tr>\n",
       "    <tr>\n",
       "      <th>2008-12-31</th>\n",
       "      <td>0.312986</td>\n",
       "      <td>0.217172</td>\n",
       "      <td>0.048276</td>\n",
       "      <td>0.970149</td>\n",
       "    </tr>\n",
       "    <tr>\n",
       "      <th>2009-12-31</th>\n",
       "      <td>0.332997</td>\n",
       "      <td>0.238669</td>\n",
       "      <td>0.03701</td>\n",
       "      <td>0.952381</td>\n",
       "    </tr>\n",
       "    <tr>\n",
       "      <th>2010-12-31</th>\n",
       "      <td>0.354819</td>\n",
       "      <td>0.27027</td>\n",
       "      <td>0.043363</td>\n",
       "      <td>0.92</td>\n",
       "    </tr>\n",
       "    <tr>\n",
       "      <th>2011-12-31</th>\n",
       "      <td>0.387578</td>\n",
       "      <td>0.329939</td>\n",
       "      <td>0.035645</td>\n",
       "      <td>0.854369</td>\n",
       "    </tr>\n",
       "    <tr>\n",
       "      <th>2012-12-31</th>\n",
       "      <td>0.406989</td>\n",
       "      <td>0.349971</td>\n",
       "      <td>0.037359</td>\n",
       "      <td>0.983051</td>\n",
       "    </tr>\n",
       "    <tr>\n",
       "      <th>2013-12-31</th>\n",
       "      <td>0.493432</td>\n",
       "      <td>0.445837</td>\n",
       "      <td>0.047401</td>\n",
       "      <td>0.911392</td>\n",
       "    </tr>\n",
       "    <tr>\n",
       "      <th>2014-12-31</th>\n",
       "      <td>0.503392</td>\n",
       "      <td>0.467683</td>\n",
       "      <td>0.050441</td>\n",
       "      <td>0.704545</td>\n",
       "    </tr>\n",
       "    <tr>\n",
       "      <th>2015-12-31</th>\n",
       "      <td>0.502385</td>\n",
       "      <td>0.433484</td>\n",
       "      <td>0.060294</td>\n",
       "      <td>0.901961</td>\n",
       "    </tr>\n",
       "  </tbody>\n",
       "</table>\n",
       "</div>"
      ],
      "text/plain": [
       "            contraband_found  contraband_drugs  contraband_weapons  \\\n",
       "date_time                                                            \n",
       "2005-12-31          0.262857          0.177033            0.045872   \n",
       "2006-12-31          0.275632          0.193582            0.032704   \n",
       "2007-12-31          0.308389           0.22524            0.043762   \n",
       "2008-12-31          0.312986          0.217172            0.048276   \n",
       "2009-12-31          0.332997          0.238669             0.03701   \n",
       "2010-12-31          0.354819           0.27027            0.043363   \n",
       "2011-12-31          0.387578          0.329939            0.035645   \n",
       "2012-12-31          0.406989          0.349971            0.037359   \n",
       "2013-12-31          0.493432          0.445837            0.047401   \n",
       "2014-12-31          0.503392          0.467683            0.050441   \n",
       "2015-12-31          0.502385          0.433484            0.060294   \n",
       "\n",
       "            contraband_alcohol  \n",
       "date_time                       \n",
       "2005-12-31            0.946429  \n",
       "2006-12-31            0.958904  \n",
       "2007-12-31            0.942857  \n",
       "2008-12-31            0.970149  \n",
       "2009-12-31            0.952381  \n",
       "2010-12-31                0.92  \n",
       "2011-12-31            0.854369  \n",
       "2012-12-31            0.983051  \n",
       "2013-12-31            0.911392  \n",
       "2014-12-31            0.704545  \n",
       "2015-12-31            0.901961  "
      ]
     },
     "execution_count": 1090,
     "metadata": {},
     "output_type": "execute_result"
    }
   ],
   "source": [
    "annuel_contraband_all=pd.concat([annuel_contraband_found,annuel_contraband_drugs,annuel_contraband_weapons,annuel_contraband_alcohol],axis=\"columns\")\n",
    "annuel_contraband_all"
   ]
  },
  {
   "cell_type": "code",
   "execution_count": 1091,
   "metadata": {},
   "outputs": [
    {
     "data": {
      "text/plain": [
       "Text(0.5, 0, 'Year')"
      ]
     },
     "execution_count": 1091,
     "metadata": {},
     "output_type": "execute_result"
    },
    {
     "data": {
      "image/png": "[encoded data removed]",
      "text/plain": [
       "<Figure size 640x480 with 4 Axes>"
      ]
     },
     "metadata": {},
     "output_type": "display_data"
    }
   ],
   "source": [
    "annuel_contraband_all.plot(subplots=\"True\",title=\"Contraband Proportion by Year\")\n",
    "plt.xlabel(\"Year\")\n"
   ]
  },
  {
   "cell_type": "code",
   "execution_count": 1092,
   "metadata": {},
   "outputs": [
    {
     "data": {
      "text/html": [
       "<div>\n",
       "<style scoped>\n",
       "    .dataframe tbody tr th:only-of-type {\n",
       "        vertical-align: middle;\n",
       "    }\n",
       "\n",
       "    .dataframe tbody tr th {\n",
       "        vertical-align: top;\n",
       "    }\n",
       "\n",
       "    .dataframe thead th {\n",
       "        text-align: right;\n",
       "    }\n",
       "</style>\n",
       "<table border=\"1\" class=\"dataframe\">\n",
       "  <thead>\n",
       "    <tr style=\"text-align: right;\">\n",
       "      <th></th>\n",
       "      <th>date</th>\n",
       "      <th>time</th>\n",
       "      <th>zone</th>\n",
       "      <th>subject_race</th>\n",
       "      <th>subject_sex</th>\n",
       "      <th>department_id</th>\n",
       "      <th>type</th>\n",
       "      <th>arrest_made</th>\n",
       "      <th>contraband_found</th>\n",
       "      <th>contraband_drugs</th>\n",
       "      <th>contraband_weapons</th>\n",
       "      <th>contraband_alcohol</th>\n",
       "      <th>reason_for_search</th>\n",
       "      <th>reason_for_stop</th>\n",
       "      <th>violation</th>\n",
       "    </tr>\n",
       "    <tr>\n",
       "      <th>date_time</th>\n",
       "      <th></th>\n",
       "      <th></th>\n",
       "      <th></th>\n",
       "      <th></th>\n",
       "      <th></th>\n",
       "      <th></th>\n",
       "      <th></th>\n",
       "      <th></th>\n",
       "      <th></th>\n",
       "      <th></th>\n",
       "      <th></th>\n",
       "      <th></th>\n",
       "      <th></th>\n",
       "      <th></th>\n",
       "      <th></th>\n",
       "    </tr>\n",
       "  </thead>\n",
       "  <tbody>\n",
       "    <tr>\n",
       "      <th>2005-11-22 11:15:00</th>\n",
       "      <td>22-11-2005</td>\n",
       "      <td>11:15:00</td>\n",
       "      <td>X3</td>\n",
       "      <td>white</td>\n",
       "      <td>male</td>\n",
       "      <td>200</td>\n",
       "      <td>vehicular</td>\n",
       "      <td>False</td>\n",
       "      <td>&lt;NA&gt;</td>\n",
       "      <td>&lt;NA&gt;</td>\n",
       "      <td>&lt;NA&gt;</td>\n",
       "      <td>&lt;NA&gt;</td>\n",
       "      <td>NaN</td>\n",
       "      <td>Speeding</td>\n",
       "      <td>False</td>\n",
       "    </tr>\n",
       "    <tr>\n",
       "      <th>2005-01-10 12:20:00</th>\n",
       "      <td>01-10-2005</td>\n",
       "      <td>12:20:00</td>\n",
       "      <td>X3</td>\n",
       "      <td>white</td>\n",
       "      <td>male</td>\n",
       "      <td>200</td>\n",
       "      <td>vehicular</td>\n",
       "      <td>False</td>\n",
       "      <td>&lt;NA&gt;</td>\n",
       "      <td>&lt;NA&gt;</td>\n",
       "      <td>&lt;NA&gt;</td>\n",
       "      <td>&lt;NA&gt;</td>\n",
       "      <td>NaN</td>\n",
       "      <td>Speeding</td>\n",
       "      <td>False</td>\n",
       "    </tr>\n",
       "    <tr>\n",
       "      <th>2005-01-10 12:30:00</th>\n",
       "      <td>01-10-2005</td>\n",
       "      <td>12:30:00</td>\n",
       "      <td>X3</td>\n",
       "      <td>white</td>\n",
       "      <td>female</td>\n",
       "      <td>200</td>\n",
       "      <td>vehicular</td>\n",
       "      <td>False</td>\n",
       "      <td>&lt;NA&gt;</td>\n",
       "      <td>&lt;NA&gt;</td>\n",
       "      <td>&lt;NA&gt;</td>\n",
       "      <td>&lt;NA&gt;</td>\n",
       "      <td>NaN</td>\n",
       "      <td>Speeding</td>\n",
       "      <td>False</td>\n",
       "    </tr>\n",
       "    <tr>\n",
       "      <th>2005-01-10 12:50:00</th>\n",
       "      <td>01-10-2005</td>\n",
       "      <td>12:50:00</td>\n",
       "      <td>X3</td>\n",
       "      <td>white</td>\n",
       "      <td>male</td>\n",
       "      <td>200</td>\n",
       "      <td>vehicular</td>\n",
       "      <td>False</td>\n",
       "      <td>&lt;NA&gt;</td>\n",
       "      <td>&lt;NA&gt;</td>\n",
       "      <td>&lt;NA&gt;</td>\n",
       "      <td>&lt;NA&gt;</td>\n",
       "      <td>NaN</td>\n",
       "      <td>Speeding</td>\n",
       "      <td>False</td>\n",
       "    </tr>\n",
       "    <tr>\n",
       "      <th>2005-01-10 13:10:00</th>\n",
       "      <td>01-10-2005</td>\n",
       "      <td>13:10:00</td>\n",
       "      <td>X3</td>\n",
       "      <td>white</td>\n",
       "      <td>female</td>\n",
       "      <td>200</td>\n",
       "      <td>vehicular</td>\n",
       "      <td>False</td>\n",
       "      <td>&lt;NA&gt;</td>\n",
       "      <td>&lt;NA&gt;</td>\n",
       "      <td>&lt;NA&gt;</td>\n",
       "      <td>&lt;NA&gt;</td>\n",
       "      <td>NaN</td>\n",
       "      <td>Speeding</td>\n",
       "      <td>False</td>\n",
       "    </tr>\n",
       "  </tbody>\n",
       "</table>\n",
       "</div>"
      ],
      "text/plain": [
       "                           date      time zone subject_race subject_sex  \\\n",
       "date_time                                                                 \n",
       "2005-11-22 11:15:00  22-11-2005  11:15:00   X3        white        male   \n",
       "2005-01-10 12:20:00  01-10-2005  12:20:00   X3        white        male   \n",
       "2005-01-10 12:30:00  01-10-2005  12:30:00   X3        white      female   \n",
       "2005-01-10 12:50:00  01-10-2005  12:50:00   X3        white        male   \n",
       "2005-01-10 13:10:00  01-10-2005  13:10:00   X3        white      female   \n",
       "\n",
       "                    department_id       type  arrest_made  contraband_found  \\\n",
       "date_time                                                                     \n",
       "2005-11-22 11:15:00           200  vehicular        False              <NA>   \n",
       "2005-01-10 12:20:00           200  vehicular        False              <NA>   \n",
       "2005-01-10 12:30:00           200  vehicular        False              <NA>   \n",
       "2005-01-10 12:50:00           200  vehicular        False              <NA>   \n",
       "2005-01-10 13:10:00           200  vehicular        False              <NA>   \n",
       "\n",
       "                     contraband_drugs  contraband_weapons  contraband_alcohol  \\\n",
       "date_time                                                                       \n",
       "2005-11-22 11:15:00              <NA>                <NA>                <NA>   \n",
       "2005-01-10 12:20:00              <NA>                <NA>                <NA>   \n",
       "2005-01-10 12:30:00              <NA>                <NA>                <NA>   \n",
       "2005-01-10 12:50:00              <NA>                <NA>                <NA>   \n",
       "2005-01-10 13:10:00              <NA>                <NA>                <NA>   \n",
       "\n",
       "                    reason_for_search reason_for_stop  violation  \n",
       "date_time                                                         \n",
       "2005-11-22 11:15:00               NaN        Speeding      False  \n",
       "2005-01-10 12:20:00               NaN        Speeding      False  \n",
       "2005-01-10 12:30:00               NaN        Speeding      False  \n",
       "2005-01-10 12:50:00               NaN        Speeding      False  \n",
       "2005-01-10 13:10:00               NaN        Speeding      False  "
      ]
     },
     "execution_count": 1092,
     "metadata": {},
     "output_type": "execute_result"
    }
   ],
   "source": [
    "df.head()"
   ]
  },
  {
   "cell_type": "code",
   "execution_count": 1093,
   "metadata": {},
   "outputs": [
    {
     "data": {
      "text/plain": [
       "False    464005\n",
       "True      16603\n",
       "Name: arrest_made, dtype: Int64"
      ]
     },
     "execution_count": 1093,
     "metadata": {},
     "output_type": "execute_result"
    }
   ],
   "source": [
    "df.arrest_made.value_counts()"
   ]
  },
  {
   "cell_type": "code",
   "execution_count": null,
   "metadata": {},
   "outputs": [],
   "source": []
  }
 ],
 "metadata": {
  "kernelspec": {
   "display_name": "Python 3",
   "language": "python",
   "name": "python3"
  },
  "language_info": {
   "codemirror_mode": {
    "name": "ipython",
    "version": 3
   },
   "file_extension": ".py",
   "mimetype": "text/x-python",
   "name": "python",
   "nbconvert_exporter": "python",
   "pygments_lexer": "ipython3",
   "version": "3.9.13"
  }
 },
 "nbformat": 4,
 "nbformat_minor": 4
}
